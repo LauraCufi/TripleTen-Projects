{
 "cells": [
  {
   "cell_type": "markdown",
   "id": "b4bc7f3c-d752-49e7-9779-5c410b5e9445",
   "metadata": {},
   "source": [
    "<h1>Final Project: Work Plan</h1>"
   ]
  },
  {
   "cell_type": "markdown",
   "id": "8eb0a9bc-63b4-4e7a-86ec-4beb81415384",
   "metadata": {},
   "source": [
    "The telecom operator Interconnect would like to be able to forecast their churn of clients. If it's discovered that a user is planning to leave, they will be offered promotional codes and special plan options. Interconnect's marketing team has collected some of their clientele's personal data, including information about their plans and contracts."
   ]
  },
  {
   "cell_type": "markdown",
   "id": "fe2a5976-dc2b-4094-b38b-6a87a9c67e8f",
   "metadata": {},
   "source": [
    "In the following document, the data provided by the marketing team is analyzed in 4 different files, which are:\n",
    "<li>contract.csv — contract information</li>\n",
    "<li>personal.csv — the client's personal data</li>\n",
    "<li>internet.csv — information about Internet services</li>\n",
    "<li>phone.csv — information about telephone services</li>"
   ]
  },
  {
   "cell_type": "markdown",
   "id": "d8bfe2b6-47eb-4172-8a8e-1f2eed3560c6",
   "metadata": {},
   "source": [
    "The exploratory data analysis is performed looking for missing values, duplicates, correcting formats, etc.\n",
    "This file aims to define a list of clarifying questions and a rough plan for solving the task based on the analysis of the data"
   ]
  },
  {
   "cell_type": "code",
   "execution_count": 5,
   "id": "ea75fc3f-bf1f-4788-9902-e13240acb35e",
   "metadata": {},
   "outputs": [
    {
     "name": "stdout",
     "output_type": "stream",
     "text": [
      "Requirement already satisfied: lightgbm in c:\\users\\laura\\anaconda3\\lib\\site-packages (4.5.0)\n",
      "Requirement already satisfied: numpy>=1.17.0 in c:\\users\\laura\\anaconda3\\lib\\site-packages (from lightgbm) (1.26.4)\n",
      "Requirement already satisfied: scipy in c:\\users\\laura\\anaconda3\\lib\\site-packages (from lightgbm) (1.11.4)\n"
     ]
    }
   ],
   "source": [
    "!pip install lightgbm"
   ]
  },
  {
   "cell_type": "code",
   "execution_count": 6,
   "id": "2a7c4282-353b-48bc-9a9d-ea74664c7474",
   "metadata": {},
   "outputs": [],
   "source": [
    "import pandas as pd\n",
    "import numpy as np\n",
    "from matplotlib import pyplot as plt\n",
    "from sklearn.utils import shuffle\n",
    "\n",
    "from sklearn.model_selection import RandomizedSearchCV\n",
    "import lightgbm as lgb\n",
    "from sklearn.tree import DecisionTreeClassifier\n",
    "from sklearn.ensemble import RandomForestClassifier\n",
    "from sklearn.linear_model import LogisticRegression\n",
    "from sklearn.metrics import accuracy_score\n",
    "from sklearn.metrics import f1_score\n",
    "from sklearn.metrics import mean_squared_error\n",
    "\n",
    "from sklearn.model_selection import train_test_split, KFold, cross_val_score\n",
    "from sklearn.model_selection import cross_val_predict\n",
    "from sklearn.preprocessing import OrdinalEncoder\n",
    "from sklearn.preprocessing import StandardScaler\n",
    "from sklearn.metrics import confusion_matrix\n",
    "\n",
    "from sklearn.model_selection import train_test_split, GridSearchCV\n",
    "from sklearn.neighbors import KNeighborsClassifier\n",
    "from sklearn.metrics import classification_report, confusion_matrix\n",
    "\n",
    "from sklearn.metrics import roc_auc_score, roc_curve\n",
    "\n",
    "from sklearn.neighbors import KNeighborsClassifier\n",
    "from sklearn.metrics import classification_report, confusion_matrix\n",
    "from sklearn.model_selection import GridSearchCV\n",
    "\n",
    "\n",
    "from imblearn.pipeline import Pipeline  \n",
    "from imblearn.over_sampling import SMOTE\n",
    "\n"
   ]
  },
  {
   "cell_type": "markdown",
   "id": "e2c9a89a-8e3d-4e09-a0ca-98de4312ee02",
   "metadata": {},
   "source": [
    "<h3>Data Frame: contract</h3>"
   ]
  },
  {
   "cell_type": "code",
   "execution_count": 8,
   "id": "6bf885a2-293d-463e-ae09-0bfea5b9a210",
   "metadata": {},
   "outputs": [],
   "source": [
    "contract=pd.read_csv('contract.csv')"
   ]
  },
  {
   "cell_type": "code",
   "execution_count": 9,
   "id": "82a952e7-de4b-4b93-a68f-cb0fb5d1e573",
   "metadata": {},
   "outputs": [
    {
     "name": "stdout",
     "output_type": "stream",
     "text": [
      "<class 'pandas.core.frame.DataFrame'>\n",
      "RangeIndex: 7043 entries, 0 to 7042\n",
      "Data columns (total 8 columns):\n",
      " #   Column            Non-Null Count  Dtype  \n",
      "---  ------            --------------  -----  \n",
      " 0   customerID        7043 non-null   object \n",
      " 1   BeginDate         7043 non-null   object \n",
      " 2   EndDate           7043 non-null   object \n",
      " 3   Type              7043 non-null   object \n",
      " 4   PaperlessBilling  7043 non-null   object \n",
      " 5   PaymentMethod     7043 non-null   object \n",
      " 6   MonthlyCharges    7043 non-null   float64\n",
      " 7   TotalCharges      7043 non-null   object \n",
      "dtypes: float64(1), object(7)\n",
      "memory usage: 440.3+ KB\n"
     ]
    }
   ],
   "source": [
    "contract.info()"
   ]
  },
  {
   "cell_type": "code",
   "execution_count": 10,
   "id": "e5828ec4-756f-46dc-b188-717ddb5ae39b",
   "metadata": {},
   "outputs": [],
   "source": [
    "contract=contract.rename(columns={'customerID': 'CustomerID'})"
   ]
  },
  {
   "cell_type": "code",
   "execution_count": 11,
   "id": "04019efb-901f-4c81-934c-56d345dd3832",
   "metadata": {},
   "outputs": [
    {
     "data": {
      "text/html": [
       "<div>\n",
       "<style scoped>\n",
       "    .dataframe tbody tr th:only-of-type {\n",
       "        vertical-align: middle;\n",
       "    }\n",
       "\n",
       "    .dataframe tbody tr th {\n",
       "        vertical-align: top;\n",
       "    }\n",
       "\n",
       "    .dataframe thead th {\n",
       "        text-align: right;\n",
       "    }\n",
       "</style>\n",
       "<table border=\"1\" class=\"dataframe\">\n",
       "  <thead>\n",
       "    <tr style=\"text-align: right;\">\n",
       "      <th></th>\n",
       "      <th>CustomerID</th>\n",
       "      <th>BeginDate</th>\n",
       "      <th>EndDate</th>\n",
       "      <th>Type</th>\n",
       "      <th>PaperlessBilling</th>\n",
       "      <th>PaymentMethod</th>\n",
       "      <th>MonthlyCharges</th>\n",
       "      <th>TotalCharges</th>\n",
       "    </tr>\n",
       "  </thead>\n",
       "  <tbody>\n",
       "    <tr>\n",
       "      <th>0</th>\n",
       "      <td>7590-VHVEG</td>\n",
       "      <td>2020-01-01</td>\n",
       "      <td>No</td>\n",
       "      <td>Month-to-month</td>\n",
       "      <td>Yes</td>\n",
       "      <td>Electronic check</td>\n",
       "      <td>29.85</td>\n",
       "      <td>29.85</td>\n",
       "    </tr>\n",
       "    <tr>\n",
       "      <th>1</th>\n",
       "      <td>5575-GNVDE</td>\n",
       "      <td>2017-04-01</td>\n",
       "      <td>No</td>\n",
       "      <td>One year</td>\n",
       "      <td>No</td>\n",
       "      <td>Mailed check</td>\n",
       "      <td>56.95</td>\n",
       "      <td>1889.5</td>\n",
       "    </tr>\n",
       "    <tr>\n",
       "      <th>2</th>\n",
       "      <td>3668-QPYBK</td>\n",
       "      <td>2019-10-01</td>\n",
       "      <td>2019-12-01 00:00:00</td>\n",
       "      <td>Month-to-month</td>\n",
       "      <td>Yes</td>\n",
       "      <td>Mailed check</td>\n",
       "      <td>53.85</td>\n",
       "      <td>108.15</td>\n",
       "    </tr>\n",
       "    <tr>\n",
       "      <th>3</th>\n",
       "      <td>7795-CFOCW</td>\n",
       "      <td>2016-05-01</td>\n",
       "      <td>No</td>\n",
       "      <td>One year</td>\n",
       "      <td>No</td>\n",
       "      <td>Bank transfer (automatic)</td>\n",
       "      <td>42.30</td>\n",
       "      <td>1840.75</td>\n",
       "    </tr>\n",
       "    <tr>\n",
       "      <th>4</th>\n",
       "      <td>9237-HQITU</td>\n",
       "      <td>2019-09-01</td>\n",
       "      <td>2019-11-01 00:00:00</td>\n",
       "      <td>Month-to-month</td>\n",
       "      <td>Yes</td>\n",
       "      <td>Electronic check</td>\n",
       "      <td>70.70</td>\n",
       "      <td>151.65</td>\n",
       "    </tr>\n",
       "  </tbody>\n",
       "</table>\n",
       "</div>"
      ],
      "text/plain": [
       "   CustomerID   BeginDate              EndDate            Type  \\\n",
       "0  7590-VHVEG  2020-01-01                   No  Month-to-month   \n",
       "1  5575-GNVDE  2017-04-01                   No        One year   \n",
       "2  3668-QPYBK  2019-10-01  2019-12-01 00:00:00  Month-to-month   \n",
       "3  7795-CFOCW  2016-05-01                   No        One year   \n",
       "4  9237-HQITU  2019-09-01  2019-11-01 00:00:00  Month-to-month   \n",
       "\n",
       "  PaperlessBilling              PaymentMethod  MonthlyCharges TotalCharges  \n",
       "0              Yes           Electronic check           29.85        29.85  \n",
       "1               No               Mailed check           56.95       1889.5  \n",
       "2              Yes               Mailed check           53.85       108.15  \n",
       "3               No  Bank transfer (automatic)           42.30      1840.75  \n",
       "4              Yes           Electronic check           70.70       151.65  "
      ]
     },
     "execution_count": 11,
     "metadata": {},
     "output_type": "execute_result"
    }
   ],
   "source": [
    "contract.head(5)"
   ]
  },
  {
   "cell_type": "code",
   "execution_count": 12,
   "id": "778835e3-43f4-4751-b0c1-4d696f70ad43",
   "metadata": {},
   "outputs": [
    {
     "name": "stdout",
     "output_type": "stream",
     "text": [
      "CustomerID          0\n",
      "BeginDate           0\n",
      "EndDate             0\n",
      "Type                0\n",
      "PaperlessBilling    0\n",
      "PaymentMethod       0\n",
      "MonthlyCharges      0\n",
      "TotalCharges        0\n",
      "dtype: int64\n"
     ]
    }
   ],
   "source": [
    "print(contract.isna().sum())"
   ]
  },
  {
   "cell_type": "code",
   "execution_count": 13,
   "id": "9f8cb562-98e2-49bb-a6b7-647505cc96ad",
   "metadata": {},
   "outputs": [
    {
     "name": "stdout",
     "output_type": "stream",
     "text": [
      "0\n"
     ]
    }
   ],
   "source": [
    "print(contract.duplicated().sum())"
   ]
  },
  {
   "cell_type": "code",
   "execution_count": 14,
   "id": "032b3456-14c3-4582-bbc6-74f5a7847fd0",
   "metadata": {},
   "outputs": [],
   "source": [
    "contract['EndDate'] = contract['EndDate'].replace('No', '1')\n",
    "contract['EndDate'] = contract['EndDate'].replace(r'\\d{4}-\\d{2}-\\d{2} \\d{2}:\\d{2}:\\d{2}', '0', regex=True)\n",
    "contract['EndDate'] = contract['EndDate'].astype('int')"
   ]
  },
  {
   "cell_type": "code",
   "execution_count": 15,
   "id": "655feb1d-2ddf-4888-83ec-b1f15e99874c",
   "metadata": {},
   "outputs": [
    {
     "data": {
      "text/html": [
       "<div>\n",
       "<style scoped>\n",
       "    .dataframe tbody tr th:only-of-type {\n",
       "        vertical-align: middle;\n",
       "    }\n",
       "\n",
       "    .dataframe tbody tr th {\n",
       "        vertical-align: top;\n",
       "    }\n",
       "\n",
       "    .dataframe thead th {\n",
       "        text-align: right;\n",
       "    }\n",
       "</style>\n",
       "<table border=\"1\" class=\"dataframe\">\n",
       "  <thead>\n",
       "    <tr style=\"text-align: right;\">\n",
       "      <th></th>\n",
       "      <th>CustomerID</th>\n",
       "      <th>BeginDate</th>\n",
       "      <th>EndDate</th>\n",
       "      <th>Type</th>\n",
       "      <th>PaperlessBilling</th>\n",
       "      <th>PaymentMethod</th>\n",
       "      <th>MonthlyCharges</th>\n",
       "      <th>TotalCharges</th>\n",
       "    </tr>\n",
       "  </thead>\n",
       "  <tbody>\n",
       "    <tr>\n",
       "      <th>0</th>\n",
       "      <td>7590-VHVEG</td>\n",
       "      <td>2020-01-01</td>\n",
       "      <td>1</td>\n",
       "      <td>Month-to-month</td>\n",
       "      <td>Yes</td>\n",
       "      <td>Electronic check</td>\n",
       "      <td>29.85</td>\n",
       "      <td>29.85</td>\n",
       "    </tr>\n",
       "    <tr>\n",
       "      <th>1</th>\n",
       "      <td>5575-GNVDE</td>\n",
       "      <td>2017-04-01</td>\n",
       "      <td>1</td>\n",
       "      <td>One year</td>\n",
       "      <td>No</td>\n",
       "      <td>Mailed check</td>\n",
       "      <td>56.95</td>\n",
       "      <td>1889.5</td>\n",
       "    </tr>\n",
       "    <tr>\n",
       "      <th>2</th>\n",
       "      <td>3668-QPYBK</td>\n",
       "      <td>2019-10-01</td>\n",
       "      <td>0</td>\n",
       "      <td>Month-to-month</td>\n",
       "      <td>Yes</td>\n",
       "      <td>Mailed check</td>\n",
       "      <td>53.85</td>\n",
       "      <td>108.15</td>\n",
       "    </tr>\n",
       "    <tr>\n",
       "      <th>3</th>\n",
       "      <td>7795-CFOCW</td>\n",
       "      <td>2016-05-01</td>\n",
       "      <td>1</td>\n",
       "      <td>One year</td>\n",
       "      <td>No</td>\n",
       "      <td>Bank transfer (automatic)</td>\n",
       "      <td>42.30</td>\n",
       "      <td>1840.75</td>\n",
       "    </tr>\n",
       "    <tr>\n",
       "      <th>4</th>\n",
       "      <td>9237-HQITU</td>\n",
       "      <td>2019-09-01</td>\n",
       "      <td>0</td>\n",
       "      <td>Month-to-month</td>\n",
       "      <td>Yes</td>\n",
       "      <td>Electronic check</td>\n",
       "      <td>70.70</td>\n",
       "      <td>151.65</td>\n",
       "    </tr>\n",
       "  </tbody>\n",
       "</table>\n",
       "</div>"
      ],
      "text/plain": [
       "   CustomerID   BeginDate  EndDate            Type PaperlessBilling  \\\n",
       "0  7590-VHVEG  2020-01-01        1  Month-to-month              Yes   \n",
       "1  5575-GNVDE  2017-04-01        1        One year               No   \n",
       "2  3668-QPYBK  2019-10-01        0  Month-to-month              Yes   \n",
       "3  7795-CFOCW  2016-05-01        1        One year               No   \n",
       "4  9237-HQITU  2019-09-01        0  Month-to-month              Yes   \n",
       "\n",
       "               PaymentMethod  MonthlyCharges TotalCharges  \n",
       "0           Electronic check           29.85        29.85  \n",
       "1               Mailed check           56.95       1889.5  \n",
       "2               Mailed check           53.85       108.15  \n",
       "3  Bank transfer (automatic)           42.30      1840.75  \n",
       "4           Electronic check           70.70       151.65  "
      ]
     },
     "execution_count": 15,
     "metadata": {},
     "output_type": "execute_result"
    }
   ],
   "source": [
    "contract.head(5)"
   ]
  },
  {
   "cell_type": "markdown",
   "id": "8160d547-1c8a-4f79-877f-55de4bfefeeb",
   "metadata": {},
   "source": [
    "Since this is a supervised learning problem, there is a target column called \"EndDate\". This column has two different types of values, the values ​​in date format indicate the date that the client left the company and the cells with the word \"No\" indicate that the client is still active.\n",
    "In order to standardize these types of data, they were changed to 1 and zero, with \"1\" being clients that are still active and \"0\" being clients that have already left the company.\n",
    "<p></p>\n",
    "In this way, if the model predicts a client with the number \"0\" it will indicate that the client is likely to leave the company.\n",
    "<p></p>"
   ]
  },
  {
   "cell_type": "code",
   "execution_count": 17,
   "id": "23b2d5a9-565e-44f5-ab58-0516b71c550c",
   "metadata": {},
   "outputs": [],
   "source": [
    "contract['EndDate'] = contract['EndDate'].fillna('1')"
   ]
  },
  {
   "cell_type": "markdown",
   "id": "b084cb49-264c-41a1-af76-91d21bebaab9",
   "metadata": {},
   "source": [
    "If end date is empty, assume that the customer is still with the company (no churn)\n"
   ]
  },
  {
   "cell_type": "code",
   "execution_count": 19,
   "id": "fd4095b3-f0d1-434d-8ace-fd2c16925952",
   "metadata": {},
   "outputs": [],
   "source": [
    "# Replace blanks with NaN\n",
    "contract['TotalCharges'] = contract['TotalCharges'].replace(' ', np.nan)\n",
    "\n",
    "# Convert to float (after replacing whitespace)\n",
    "contract['TotalCharges'] = contract['TotalCharges'].astype('float')"
   ]
  },
  {
   "cell_type": "code",
   "execution_count": 20,
   "id": "067c04d7-3bbc-4191-9fab-b4e573073edf",
   "metadata": {},
   "outputs": [
    {
     "data": {
      "image/png": "[encoded data removed]",
      "text/plain": [
       "<Figure size 640x480 with 4 Axes>"
      ]
     },
     "metadata": {},
     "output_type": "display_data"
    }
   ],
   "source": [
    "contract.hist()\n",
    "plt.show()"
   ]
  },
  {
   "cell_type": "markdown",
   "id": "b79bf061-0411-4602-ac5a-bac2404a7bb1",
   "metadata": {},
   "source": [
    "MonthlyCharges:\n",
    "\n",
    "<li>Most customers appear to have low monthly charges, especially between 0 and 25.</li>\n",
    "<li>There is a wider spread between monthly charges of 25 to 100, with many customers paying different amounts in this range.</li>\n",
    "<li>The distribution appears to be skewed to the left, with a peak at the very bottom (many customers pay very low monthly charges).</li>"
   ]
  },
  {
   "cell_type": "markdown",
   "id": "427a8ab4-5b5c-449e-b20d-95958a130961",
   "metadata": {},
   "source": [
    "TotalCharges:\n",
    "\n",
    "<li>Total charges also show a high concentration of customers with low amounts (many around 0 to 1000), likely new customers or those who have been with the company for a short time.</li>\n",
    "<li>As total charges increase, there is a decrease in the number of customers, with very few customers with total charges above 4000 or 5000.</li>\n",
    "<li>This distribution is also skewed to the left, indicating that only a few customers have very high total charges.</li>"
   ]
  },
  {
   "cell_type": "markdown",
   "id": "ec145ad4-a28e-4a7c-a2b8-6d83c99c6608",
   "metadata": {},
   "source": [
    "<h3>Data Frame: personal</h3>"
   ]
  },
  {
   "cell_type": "code",
   "execution_count": 24,
   "id": "ebdad657-50d7-4323-b666-60de819273b4",
   "metadata": {},
   "outputs": [],
   "source": [
    "personal=pd.read_csv('personal.csv')"
   ]
  },
  {
   "cell_type": "code",
   "execution_count": 25,
   "id": "e3dcbf97-f99a-4002-a63d-1101d986efa9",
   "metadata": {},
   "outputs": [
    {
     "name": "stdout",
     "output_type": "stream",
     "text": [
      "<class 'pandas.core.frame.DataFrame'>\n",
      "RangeIndex: 7043 entries, 0 to 7042\n",
      "Data columns (total 5 columns):\n",
      " #   Column         Non-Null Count  Dtype \n",
      "---  ------         --------------  ----- \n",
      " 0   customerID     7043 non-null   object\n",
      " 1   gender         7043 non-null   object\n",
      " 2   SeniorCitizen  7043 non-null   int64 \n",
      " 3   Partner        7043 non-null   object\n",
      " 4   Dependents     7043 non-null   object\n",
      "dtypes: int64(1), object(4)\n",
      "memory usage: 275.2+ KB\n"
     ]
    }
   ],
   "source": [
    "personal.info()"
   ]
  },
  {
   "cell_type": "code",
   "execution_count": 26,
   "id": "5255be66-7e56-4ee4-a939-2accd9e7b2c0",
   "metadata": {},
   "outputs": [],
   "source": [
    "personal=personal.rename(columns={'gender': 'Gender'})\n",
    "personal=personal.rename(columns={'customerID': 'CustomerID'})"
   ]
  },
  {
   "cell_type": "code",
   "execution_count": 27,
   "id": "f887aca0-2a81-406f-a202-77dda18dc3d5",
   "metadata": {},
   "outputs": [
    {
     "data": {
      "text/html": [
       "<div>\n",
       "<style scoped>\n",
       "    .dataframe tbody tr th:only-of-type {\n",
       "        vertical-align: middle;\n",
       "    }\n",
       "\n",
       "    .dataframe tbody tr th {\n",
       "        vertical-align: top;\n",
       "    }\n",
       "\n",
       "    .dataframe thead th {\n",
       "        text-align: right;\n",
       "    }\n",
       "</style>\n",
       "<table border=\"1\" class=\"dataframe\">\n",
       "  <thead>\n",
       "    <tr style=\"text-align: right;\">\n",
       "      <th></th>\n",
       "      <th>CustomerID</th>\n",
       "      <th>Gender</th>\n",
       "      <th>SeniorCitizen</th>\n",
       "      <th>Partner</th>\n",
       "      <th>Dependents</th>\n",
       "    </tr>\n",
       "  </thead>\n",
       "  <tbody>\n",
       "    <tr>\n",
       "      <th>0</th>\n",
       "      <td>7590-VHVEG</td>\n",
       "      <td>Female</td>\n",
       "      <td>0</td>\n",
       "      <td>Yes</td>\n",
       "      <td>No</td>\n",
       "    </tr>\n",
       "    <tr>\n",
       "      <th>1</th>\n",
       "      <td>5575-GNVDE</td>\n",
       "      <td>Male</td>\n",
       "      <td>0</td>\n",
       "      <td>No</td>\n",
       "      <td>No</td>\n",
       "    </tr>\n",
       "    <tr>\n",
       "      <th>2</th>\n",
       "      <td>3668-QPYBK</td>\n",
       "      <td>Male</td>\n",
       "      <td>0</td>\n",
       "      <td>No</td>\n",
       "      <td>No</td>\n",
       "    </tr>\n",
       "    <tr>\n",
       "      <th>3</th>\n",
       "      <td>7795-CFOCW</td>\n",
       "      <td>Male</td>\n",
       "      <td>0</td>\n",
       "      <td>No</td>\n",
       "      <td>No</td>\n",
       "    </tr>\n",
       "    <tr>\n",
       "      <th>4</th>\n",
       "      <td>9237-HQITU</td>\n",
       "      <td>Female</td>\n",
       "      <td>0</td>\n",
       "      <td>No</td>\n",
       "      <td>No</td>\n",
       "    </tr>\n",
       "  </tbody>\n",
       "</table>\n",
       "</div>"
      ],
      "text/plain": [
       "   CustomerID  Gender  SeniorCitizen Partner Dependents\n",
       "0  7590-VHVEG  Female              0     Yes         No\n",
       "1  5575-GNVDE    Male              0      No         No\n",
       "2  3668-QPYBK    Male              0      No         No\n",
       "3  7795-CFOCW    Male              0      No         No\n",
       "4  9237-HQITU  Female              0      No         No"
      ]
     },
     "execution_count": 27,
     "metadata": {},
     "output_type": "execute_result"
    }
   ],
   "source": [
    "personal.head(5)"
   ]
  },
  {
   "cell_type": "code",
   "execution_count": 28,
   "id": "5d3fa776-9918-439f-af46-6115bebea202",
   "metadata": {},
   "outputs": [
    {
     "name": "stdout",
     "output_type": "stream",
     "text": [
      "CustomerID       0\n",
      "Gender           0\n",
      "SeniorCitizen    0\n",
      "Partner          0\n",
      "Dependents       0\n",
      "dtype: int64\n"
     ]
    }
   ],
   "source": [
    "print(personal.isna().sum())"
   ]
  },
  {
   "cell_type": "code",
   "execution_count": 29,
   "id": "2f297e2b-392b-4bdc-9970-132fa5206487",
   "metadata": {},
   "outputs": [
    {
     "name": "stdout",
     "output_type": "stream",
     "text": [
      "0\n"
     ]
    }
   ],
   "source": [
    "print(personal.duplicated().sum())"
   ]
  },
  {
   "cell_type": "markdown",
   "id": "0e9f494a-aa3a-4812-aff5-1f0b56228f8c",
   "metadata": {},
   "source": [
    "The \"personal\" dataframe contains the personal data of the clients.\n",
    "The column names were normalized.\n",
    "No missing or duplicate values ​​were found."
   ]
  },
  {
   "cell_type": "markdown",
   "id": "0d257242-579b-412e-93c2-14c962f5b377",
   "metadata": {},
   "source": [
    "<h3>Data Frame: internet</h3>"
   ]
  },
  {
   "cell_type": "code",
   "execution_count": 32,
   "id": "1166b147-1db7-4872-b016-e7f0868edffd",
   "metadata": {},
   "outputs": [],
   "source": [
    "internet=pd.read_csv('internet.csv')"
   ]
  },
  {
   "cell_type": "code",
   "execution_count": 33,
   "id": "1087f089-2f81-4cc2-aadb-0eb522358d26",
   "metadata": {},
   "outputs": [
    {
     "name": "stdout",
     "output_type": "stream",
     "text": [
      "<class 'pandas.core.frame.DataFrame'>\n",
      "RangeIndex: 5517 entries, 0 to 5516\n",
      "Data columns (total 8 columns):\n",
      " #   Column            Non-Null Count  Dtype \n",
      "---  ------            --------------  ----- \n",
      " 0   customerID        5517 non-null   object\n",
      " 1   InternetService   5517 non-null   object\n",
      " 2   OnlineSecurity    5517 non-null   object\n",
      " 3   OnlineBackup      5517 non-null   object\n",
      " 4   DeviceProtection  5517 non-null   object\n",
      " 5   TechSupport       5517 non-null   object\n",
      " 6   StreamingTV       5517 non-null   object\n",
      " 7   StreamingMovies   5517 non-null   object\n",
      "dtypes: object(8)\n",
      "memory usage: 344.9+ KB\n"
     ]
    }
   ],
   "source": [
    "internet.info()"
   ]
  },
  {
   "cell_type": "code",
   "execution_count": 34,
   "id": "d6e31925-8008-411b-9014-c705cfa3d8fc",
   "metadata": {},
   "outputs": [],
   "source": [
    "internet=internet.rename(columns={'customerID': 'CustomerID'})"
   ]
  },
  {
   "cell_type": "code",
   "execution_count": 35,
   "id": "193d1475-c8bd-4f0d-8ce8-c5d6e82939d0",
   "metadata": {},
   "outputs": [
    {
     "data": {
      "text/html": [
       "<div>\n",
       "<style scoped>\n",
       "    .dataframe tbody tr th:only-of-type {\n",
       "        vertical-align: middle;\n",
       "    }\n",
       "\n",
       "    .dataframe tbody tr th {\n",
       "        vertical-align: top;\n",
       "    }\n",
       "\n",
       "    .dataframe thead th {\n",
       "        text-align: right;\n",
       "    }\n",
       "</style>\n",
       "<table border=\"1\" class=\"dataframe\">\n",
       "  <thead>\n",
       "    <tr style=\"text-align: right;\">\n",
       "      <th></th>\n",
       "      <th>CustomerID</th>\n",
       "      <th>InternetService</th>\n",
       "      <th>OnlineSecurity</th>\n",
       "      <th>OnlineBackup</th>\n",
       "      <th>DeviceProtection</th>\n",
       "      <th>TechSupport</th>\n",
       "      <th>StreamingTV</th>\n",
       "      <th>StreamingMovies</th>\n",
       "    </tr>\n",
       "  </thead>\n",
       "  <tbody>\n",
       "    <tr>\n",
       "      <th>0</th>\n",
       "      <td>7590-VHVEG</td>\n",
       "      <td>DSL</td>\n",
       "      <td>No</td>\n",
       "      <td>Yes</td>\n",
       "      <td>No</td>\n",
       "      <td>No</td>\n",
       "      <td>No</td>\n",
       "      <td>No</td>\n",
       "    </tr>\n",
       "    <tr>\n",
       "      <th>1</th>\n",
       "      <td>5575-GNVDE</td>\n",
       "      <td>DSL</td>\n",
       "      <td>Yes</td>\n",
       "      <td>No</td>\n",
       "      <td>Yes</td>\n",
       "      <td>No</td>\n",
       "      <td>No</td>\n",
       "      <td>No</td>\n",
       "    </tr>\n",
       "    <tr>\n",
       "      <th>2</th>\n",
       "      <td>3668-QPYBK</td>\n",
       "      <td>DSL</td>\n",
       "      <td>Yes</td>\n",
       "      <td>Yes</td>\n",
       "      <td>No</td>\n",
       "      <td>No</td>\n",
       "      <td>No</td>\n",
       "      <td>No</td>\n",
       "    </tr>\n",
       "    <tr>\n",
       "      <th>3</th>\n",
       "      <td>7795-CFOCW</td>\n",
       "      <td>DSL</td>\n",
       "      <td>Yes</td>\n",
       "      <td>No</td>\n",
       "      <td>Yes</td>\n",
       "      <td>Yes</td>\n",
       "      <td>No</td>\n",
       "      <td>No</td>\n",
       "    </tr>\n",
       "    <tr>\n",
       "      <th>4</th>\n",
       "      <td>9237-HQITU</td>\n",
       "      <td>Fiber optic</td>\n",
       "      <td>No</td>\n",
       "      <td>No</td>\n",
       "      <td>No</td>\n",
       "      <td>No</td>\n",
       "      <td>No</td>\n",
       "      <td>No</td>\n",
       "    </tr>\n",
       "  </tbody>\n",
       "</table>\n",
       "</div>"
      ],
      "text/plain": [
       "   CustomerID InternetService OnlineSecurity OnlineBackup DeviceProtection  \\\n",
       "0  7590-VHVEG             DSL             No          Yes               No   \n",
       "1  5575-GNVDE             DSL            Yes           No              Yes   \n",
       "2  3668-QPYBK             DSL            Yes          Yes               No   \n",
       "3  7795-CFOCW             DSL            Yes           No              Yes   \n",
       "4  9237-HQITU     Fiber optic             No           No               No   \n",
       "\n",
       "  TechSupport StreamingTV StreamingMovies  \n",
       "0          No          No              No  \n",
       "1          No          No              No  \n",
       "2          No          No              No  \n",
       "3         Yes          No              No  \n",
       "4          No          No              No  "
      ]
     },
     "execution_count": 35,
     "metadata": {},
     "output_type": "execute_result"
    }
   ],
   "source": [
    "internet.head(5)"
   ]
  },
  {
   "cell_type": "code",
   "execution_count": 36,
   "id": "af9d25da-6146-4232-9d0e-bbff028bbe31",
   "metadata": {},
   "outputs": [
    {
     "name": "stdout",
     "output_type": "stream",
     "text": [
      "CustomerID          0\n",
      "InternetService     0\n",
      "OnlineSecurity      0\n",
      "OnlineBackup        0\n",
      "DeviceProtection    0\n",
      "TechSupport         0\n",
      "StreamingTV         0\n",
      "StreamingMovies     0\n",
      "dtype: int64\n"
     ]
    }
   ],
   "source": [
    "print(internet.isna().sum())"
   ]
  },
  {
   "cell_type": "code",
   "execution_count": 37,
   "id": "89171e82-ac2f-4426-b691-abf3d490a151",
   "metadata": {},
   "outputs": [
    {
     "name": "stdout",
     "output_type": "stream",
     "text": [
      "0\n"
     ]
    }
   ],
   "source": [
    "print(internet.duplicated().sum())"
   ]
  },
  {
   "cell_type": "markdown",
   "id": "07dd77a3-6796-4e1e-8a4b-2837da668fef",
   "metadata": {},
   "source": [
    "The dataframe \"internet\" contains information about Internet services.\n",
    "Column names were normalized.\n",
    "No missing or duplicate values ​​were found."
   ]
  },
  {
   "cell_type": "markdown",
   "id": "83b210a3-b304-4d4c-a30d-ce1fe9519e41",
   "metadata": {},
   "source": [
    "<h3>Data Frame: phone</h3>"
   ]
  },
  {
   "cell_type": "code",
   "execution_count": 40,
   "id": "5a8889b8-9558-45b0-bf51-7f9e4d33bda6",
   "metadata": {},
   "outputs": [],
   "source": [
    "phone=pd.read_csv('phone.csv')"
   ]
  },
  {
   "cell_type": "code",
   "execution_count": 41,
   "id": "14720119-f653-48c2-80fd-89b818582603",
   "metadata": {},
   "outputs": [
    {
     "name": "stdout",
     "output_type": "stream",
     "text": [
      "<class 'pandas.core.frame.DataFrame'>\n",
      "RangeIndex: 6361 entries, 0 to 6360\n",
      "Data columns (total 2 columns):\n",
      " #   Column         Non-Null Count  Dtype \n",
      "---  ------         --------------  ----- \n",
      " 0   customerID     6361 non-null   object\n",
      " 1   MultipleLines  6361 non-null   object\n",
      "dtypes: object(2)\n",
      "memory usage: 99.5+ KB\n"
     ]
    }
   ],
   "source": [
    "phone.info()"
   ]
  },
  {
   "cell_type": "code",
   "execution_count": 42,
   "id": "2fd9ad48-8bf6-40d7-9764-7e2c18beace6",
   "metadata": {},
   "outputs": [],
   "source": [
    "phone=phone.rename(columns={'customerID': 'CustomerID'})"
   ]
  },
  {
   "cell_type": "code",
   "execution_count": 43,
   "id": "a3034a1a-56e1-42e3-9274-a93fbb29a2d5",
   "metadata": {},
   "outputs": [
    {
     "data": {
      "text/html": [
       "<div>\n",
       "<style scoped>\n",
       "    .dataframe tbody tr th:only-of-type {\n",
       "        vertical-align: middle;\n",
       "    }\n",
       "\n",
       "    .dataframe tbody tr th {\n",
       "        vertical-align: top;\n",
       "    }\n",
       "\n",
       "    .dataframe thead th {\n",
       "        text-align: right;\n",
       "    }\n",
       "</style>\n",
       "<table border=\"1\" class=\"dataframe\">\n",
       "  <thead>\n",
       "    <tr style=\"text-align: right;\">\n",
       "      <th></th>\n",
       "      <th>CustomerID</th>\n",
       "      <th>MultipleLines</th>\n",
       "    </tr>\n",
       "  </thead>\n",
       "  <tbody>\n",
       "    <tr>\n",
       "      <th>0</th>\n",
       "      <td>5575-GNVDE</td>\n",
       "      <td>No</td>\n",
       "    </tr>\n",
       "    <tr>\n",
       "      <th>1</th>\n",
       "      <td>3668-QPYBK</td>\n",
       "      <td>No</td>\n",
       "    </tr>\n",
       "    <tr>\n",
       "      <th>2</th>\n",
       "      <td>9237-HQITU</td>\n",
       "      <td>No</td>\n",
       "    </tr>\n",
       "    <tr>\n",
       "      <th>3</th>\n",
       "      <td>9305-CDSKC</td>\n",
       "      <td>Yes</td>\n",
       "    </tr>\n",
       "    <tr>\n",
       "      <th>4</th>\n",
       "      <td>1452-KIOVK</td>\n",
       "      <td>Yes</td>\n",
       "    </tr>\n",
       "  </tbody>\n",
       "</table>\n",
       "</div>"
      ],
      "text/plain": [
       "   CustomerID MultipleLines\n",
       "0  5575-GNVDE            No\n",
       "1  3668-QPYBK            No\n",
       "2  9237-HQITU            No\n",
       "3  9305-CDSKC           Yes\n",
       "4  1452-KIOVK           Yes"
      ]
     },
     "execution_count": 43,
     "metadata": {},
     "output_type": "execute_result"
    }
   ],
   "source": [
    "phone.head(5)"
   ]
  },
  {
   "cell_type": "code",
   "execution_count": 44,
   "id": "80511082-0c05-439f-8ae5-aa6de8e1a703",
   "metadata": {},
   "outputs": [
    {
     "name": "stdout",
     "output_type": "stream",
     "text": [
      "CustomerID       0\n",
      "MultipleLines    0\n",
      "dtype: int64\n"
     ]
    }
   ],
   "source": [
    "print(phone.isna().sum())"
   ]
  },
  {
   "cell_type": "code",
   "execution_count": 45,
   "id": "dfa8d6da-4598-496b-a3d9-83003d97dab6",
   "metadata": {},
   "outputs": [
    {
     "name": "stdout",
     "output_type": "stream",
     "text": [
      "0\n"
     ]
    }
   ],
   "source": [
    "print(phone.duplicated().sum())"
   ]
  },
  {
   "cell_type": "markdown",
   "id": "07d91c8d-959d-4df5-b411-ca9a655de7b8",
   "metadata": {},
   "source": [
    "The dataframe \"phone\" contains information about telephone services\n",
    "Column names were normalized.\n",
    "No missing or duplicate values ​​were found"
   ]
  },
  {
   "cell_type": "code",
   "execution_count": 47,
   "id": "1c016562-b676-4859-8da4-7f5abcff46f4",
   "metadata": {},
   "outputs": [
    {
     "name": "stdout",
     "output_type": "stream",
     "text": [
      "<class 'pandas.core.frame.DataFrame'>\n",
      "RangeIndex: 7043 entries, 0 to 7042\n",
      "Data columns (total 20 columns):\n",
      " #   Column            Non-Null Count  Dtype  \n",
      "---  ------            --------------  -----  \n",
      " 0   CustomerID        7043 non-null   object \n",
      " 1   BeginDate         7043 non-null   object \n",
      " 2   EndDate           7043 non-null   int32  \n",
      " 3   Type              7043 non-null   object \n",
      " 4   PaperlessBilling  7043 non-null   object \n",
      " 5   PaymentMethod     7043 non-null   object \n",
      " 6   MonthlyCharges    7043 non-null   float64\n",
      " 7   TotalCharges      7032 non-null   float64\n",
      " 8   Gender            7043 non-null   object \n",
      " 9   SeniorCitizen     7043 non-null   int64  \n",
      " 10  Partner           7043 non-null   object \n",
      " 11  Dependents        7043 non-null   object \n",
      " 12  InternetService   5517 non-null   object \n",
      " 13  OnlineSecurity    5517 non-null   object \n",
      " 14  OnlineBackup      5517 non-null   object \n",
      " 15  DeviceProtection  5517 non-null   object \n",
      " 16  TechSupport       5517 non-null   object \n",
      " 17  StreamingTV       5517 non-null   object \n",
      " 18  StreamingMovies   5517 non-null   object \n",
      " 19  MultipleLines     6361 non-null   object \n",
      "dtypes: float64(2), int32(1), int64(1), object(16)\n",
      "memory usage: 1.0+ MB\n"
     ]
    }
   ],
   "source": [
    "df= pd.merge(contract, personal, on='CustomerID', how='left') \n",
    "df = pd.merge(df, internet, on='CustomerID', how='left')\n",
    "df = pd.merge(df, phone, on='CustomerID',how='left')\n",
    "df.info()"
   ]
  },
  {
   "cell_type": "markdown",
   "id": "299adb4b-c4e9-4dc5-896a-efc28094ea56",
   "metadata": {},
   "source": [
    "For ease of analysis all dataframes were combined into one total dataframe called \"df\" with the column in common \"CustomerID\""
   ]
  },
  {
   "cell_type": "markdown",
   "id": "7b53412e-4621-4506-a246-5b3b00887770",
   "metadata": {},
   "source": [
    "<h3>Conclusion</h3>"
   ]
  },
  {
   "cell_type": "markdown",
   "id": "3a152c46-97b0-4605-9cf4-b9a9c9a67d48",
   "metadata": {},
   "source": [
    "<li>The marketing department provided 4 data frames with different information about phone plans, internet plans, and personal data of customers. These data frames have in common the column \"customerID\" that contains a unique code assigned to each client.</li>\n",
    "\n",
    "<li>In general, no missing or duplicate values ​​were found in the data frames.</li>\n",
    "\n",
    "<li>The column names were normalized to follow a pattern of capitalization with each new word.</li>\n",
    "\n",
    "<li>Regarding the monthly charge, many customers pay low monthly amounts, which could suggest that these customers use basic services or have low-cost plans.</li>\n",
    "\n",
    "<li>There is a varied distribution of customers regarding monthly and total charges, which suggests that the company has a diverse customer base in terms of spending.</li>\n",
    "\n",
    "<li>The \"EndDate\" column is marked as the target column, this column was standardized with the values ​​of zero \"0\" and one \"1\", that is, the clients who left the company \"0\" and the clients who are still active \"1\", this in order to simplify the model to a classification problem.</li>\n",
    "\n",
    "<li>For ease of analysis all dataframes were combined into one total dataframe called \"df\" with the column in common \"CustomerID\"</li>"
   ]
  },
  {
   "cell_type": "markdown",
   "id": "86cc432f-6a8c-4dde-b5d2-93258d8decb9",
   "metadata": {},
   "source": [
    "<h3>Clarifying questions</h3>"
   ]
  },
  {
   "cell_type": "markdown",
   "id": "889ad07f-1c1a-45d1-8064-07998177c186",
   "metadata": {},
   "source": [
    "<li>What is the time period of the available data?: To understand whether it is possible to identify patterns of behavior before churn, it is important to know whether the data covers a sufficient period.</li>\n",
    "<li>What specific characteristics are available about the customers?: Know if demographic details, usage behavior, payment history, etc. are included.</li>"
   ]
  },
  {
   "cell_type": "markdown",
   "id": "b2ac89d6-3b45-4f36-b3f8-aba347ac9902",
   "metadata": {},
   "source": [
    "<h3>Plan for solving the task</h3>"
   ]
  },
  {
   "cell_type": "markdown",
   "id": "f93659e0-82a5-447e-9dd0-532d1497fcbd",
   "metadata": {},
   "source": [
    "<li>Step 1: Data Exploration and Cleaning\n",
    "Review the data provided to understand its structure, identify missing values, and clean up errors or inconsistencies. This includes converting categorical data into formats that can be used by models.</li>\n",
    "<li>Step 2: Exploratory Data Analysis (EDA)\n",
    "Explore the relationship between available features and churn. Create visualizations of churn distribution across different segments. This helps identify preliminary patterns and select features that could be important predictors.</li>\n",
    "<li>Step 3: Preprocessing and Feature Selection\n",
    "Standardize, normalize, or encode categorical variables and select key features for the model. Consider dimensionality reduction if the dataset is very large. Good preprocessing ensures that the model can properly learn from the data and prevents irrelevant variables from affecting performance.</li>\n",
    "<li>Step 4: Training machine learning models\n",
    "Test various supervised models (logistic regression, random forest, XGBoost, etc.) to predict churn. Use cross-validation to evaluate their performance. Testing different models ensures that the most appropriate one is chosen for the problem, based on the characteristics of the data.\n",
    "<li>Step 5: Evaluating and optimizing the model\n",
    "Measure performance using metrics such as precision, recall, F1-score, and ROC curve, optimizing hyperparameters as needed. Handle class imbalance if necessary. The selected metrics allow you to understand whether the model predicts churn well, especially in imbalanced situations.</li>"
   ]
  },
  {
   "cell_type": "markdown",
   "id": "2cecd7c7-d56d-4075-b4f8-09210f7b7719",
   "metadata": {},
   "source": [
    "<h1>Final Project: Solution Code</h1>"
   ]
  },
  {
   "cell_type": "code",
   "execution_count": 56,
   "id": "c1838b64-0775-4fbf-a70d-05c752af66e6",
   "metadata": {},
   "outputs": [
    {
     "data": {
      "text/html": [
       "<div>\n",
       "<style scoped>\n",
       "    .dataframe tbody tr th:only-of-type {\n",
       "        vertical-align: middle;\n",
       "    }\n",
       "\n",
       "    .dataframe tbody tr th {\n",
       "        vertical-align: top;\n",
       "    }\n",
       "\n",
       "    .dataframe thead th {\n",
       "        text-align: right;\n",
       "    }\n",
       "</style>\n",
       "<table border=\"1\" class=\"dataframe\">\n",
       "  <thead>\n",
       "    <tr style=\"text-align: right;\">\n",
       "      <th></th>\n",
       "      <th>CustomerID</th>\n",
       "      <th>BeginDate</th>\n",
       "      <th>EndDate</th>\n",
       "      <th>Type</th>\n",
       "      <th>PaperlessBilling</th>\n",
       "      <th>PaymentMethod</th>\n",
       "      <th>MonthlyCharges</th>\n",
       "      <th>TotalCharges</th>\n",
       "      <th>Gender</th>\n",
       "      <th>SeniorCitizen</th>\n",
       "      <th>Partner</th>\n",
       "      <th>Dependents</th>\n",
       "      <th>InternetService</th>\n",
       "      <th>OnlineSecurity</th>\n",
       "      <th>OnlineBackup</th>\n",
       "      <th>DeviceProtection</th>\n",
       "      <th>TechSupport</th>\n",
       "      <th>StreamingTV</th>\n",
       "      <th>StreamingMovies</th>\n",
       "      <th>MultipleLines</th>\n",
       "    </tr>\n",
       "  </thead>\n",
       "  <tbody>\n",
       "    <tr>\n",
       "      <th>0</th>\n",
       "      <td>7590-VHVEG</td>\n",
       "      <td>2020-01-01</td>\n",
       "      <td>1</td>\n",
       "      <td>Month-to-month</td>\n",
       "      <td>Yes</td>\n",
       "      <td>Electronic check</td>\n",
       "      <td>29.85</td>\n",
       "      <td>29.85</td>\n",
       "      <td>Female</td>\n",
       "      <td>0</td>\n",
       "      <td>Yes</td>\n",
       "      <td>No</td>\n",
       "      <td>DSL</td>\n",
       "      <td>No</td>\n",
       "      <td>Yes</td>\n",
       "      <td>No</td>\n",
       "      <td>No</td>\n",
       "      <td>No</td>\n",
       "      <td>No</td>\n",
       "      <td>NaN</td>\n",
       "    </tr>\n",
       "    <tr>\n",
       "      <th>1</th>\n",
       "      <td>5575-GNVDE</td>\n",
       "      <td>2017-04-01</td>\n",
       "      <td>1</td>\n",
       "      <td>One year</td>\n",
       "      <td>No</td>\n",
       "      <td>Mailed check</td>\n",
       "      <td>56.95</td>\n",
       "      <td>1889.50</td>\n",
       "      <td>Male</td>\n",
       "      <td>0</td>\n",
       "      <td>No</td>\n",
       "      <td>No</td>\n",
       "      <td>DSL</td>\n",
       "      <td>Yes</td>\n",
       "      <td>No</td>\n",
       "      <td>Yes</td>\n",
       "      <td>No</td>\n",
       "      <td>No</td>\n",
       "      <td>No</td>\n",
       "      <td>No</td>\n",
       "    </tr>\n",
       "    <tr>\n",
       "      <th>2</th>\n",
       "      <td>3668-QPYBK</td>\n",
       "      <td>2019-10-01</td>\n",
       "      <td>0</td>\n",
       "      <td>Month-to-month</td>\n",
       "      <td>Yes</td>\n",
       "      <td>Mailed check</td>\n",
       "      <td>53.85</td>\n",
       "      <td>108.15</td>\n",
       "      <td>Male</td>\n",
       "      <td>0</td>\n",
       "      <td>No</td>\n",
       "      <td>No</td>\n",
       "      <td>DSL</td>\n",
       "      <td>Yes</td>\n",
       "      <td>Yes</td>\n",
       "      <td>No</td>\n",
       "      <td>No</td>\n",
       "      <td>No</td>\n",
       "      <td>No</td>\n",
       "      <td>No</td>\n",
       "    </tr>\n",
       "    <tr>\n",
       "      <th>3</th>\n",
       "      <td>7795-CFOCW</td>\n",
       "      <td>2016-05-01</td>\n",
       "      <td>1</td>\n",
       "      <td>One year</td>\n",
       "      <td>No</td>\n",
       "      <td>Bank transfer (automatic)</td>\n",
       "      <td>42.30</td>\n",
       "      <td>1840.75</td>\n",
       "      <td>Male</td>\n",
       "      <td>0</td>\n",
       "      <td>No</td>\n",
       "      <td>No</td>\n",
       "      <td>DSL</td>\n",
       "      <td>Yes</td>\n",
       "      <td>No</td>\n",
       "      <td>Yes</td>\n",
       "      <td>Yes</td>\n",
       "      <td>No</td>\n",
       "      <td>No</td>\n",
       "      <td>NaN</td>\n",
       "    </tr>\n",
       "    <tr>\n",
       "      <th>4</th>\n",
       "      <td>9237-HQITU</td>\n",
       "      <td>2019-09-01</td>\n",
       "      <td>0</td>\n",
       "      <td>Month-to-month</td>\n",
       "      <td>Yes</td>\n",
       "      <td>Electronic check</td>\n",
       "      <td>70.70</td>\n",
       "      <td>151.65</td>\n",
       "      <td>Female</td>\n",
       "      <td>0</td>\n",
       "      <td>No</td>\n",
       "      <td>No</td>\n",
       "      <td>Fiber optic</td>\n",
       "      <td>No</td>\n",
       "      <td>No</td>\n",
       "      <td>No</td>\n",
       "      <td>No</td>\n",
       "      <td>No</td>\n",
       "      <td>No</td>\n",
       "      <td>No</td>\n",
       "    </tr>\n",
       "  </tbody>\n",
       "</table>\n",
       "</div>"
      ],
      "text/plain": [
       "   CustomerID   BeginDate  EndDate            Type PaperlessBilling  \\\n",
       "0  7590-VHVEG  2020-01-01        1  Month-to-month              Yes   \n",
       "1  5575-GNVDE  2017-04-01        1        One year               No   \n",
       "2  3668-QPYBK  2019-10-01        0  Month-to-month              Yes   \n",
       "3  7795-CFOCW  2016-05-01        1        One year               No   \n",
       "4  9237-HQITU  2019-09-01        0  Month-to-month              Yes   \n",
       "\n",
       "               PaymentMethod  MonthlyCharges  TotalCharges  Gender  \\\n",
       "0           Electronic check           29.85         29.85  Female   \n",
       "1               Mailed check           56.95       1889.50    Male   \n",
       "2               Mailed check           53.85        108.15    Male   \n",
       "3  Bank transfer (automatic)           42.30       1840.75    Male   \n",
       "4           Electronic check           70.70        151.65  Female   \n",
       "\n",
       "   SeniorCitizen Partner Dependents InternetService OnlineSecurity  \\\n",
       "0              0     Yes         No             DSL             No   \n",
       "1              0      No         No             DSL            Yes   \n",
       "2              0      No         No             DSL            Yes   \n",
       "3              0      No         No             DSL            Yes   \n",
       "4              0      No         No     Fiber optic             No   \n",
       "\n",
       "  OnlineBackup DeviceProtection TechSupport StreamingTV StreamingMovies  \\\n",
       "0          Yes               No          No          No              No   \n",
       "1           No              Yes          No          No              No   \n",
       "2          Yes               No          No          No              No   \n",
       "3           No              Yes         Yes          No              No   \n",
       "4           No               No          No          No              No   \n",
       "\n",
       "  MultipleLines  \n",
       "0           NaN  \n",
       "1            No  \n",
       "2            No  \n",
       "3           NaN  \n",
       "4            No  "
      ]
     },
     "execution_count": 56,
     "metadata": {},
     "output_type": "execute_result"
    }
   ],
   "source": [
    "df.head(5)"
   ]
  },
  {
   "cell_type": "code",
   "execution_count": 57,
   "id": "0d1a6533-f10a-494a-84e6-9ba907e64f89",
   "metadata": {},
   "outputs": [
    {
     "name": "stdout",
     "output_type": "stream",
     "text": [
      "<class 'pandas.core.frame.DataFrame'>\n",
      "RangeIndex: 7043 entries, 0 to 7042\n",
      "Data columns (total 20 columns):\n",
      " #   Column            Non-Null Count  Dtype  \n",
      "---  ------            --------------  -----  \n",
      " 0   CustomerID        7043 non-null   object \n",
      " 1   BeginDate         7043 non-null   object \n",
      " 2   EndDate           7043 non-null   int32  \n",
      " 3   Type              7043 non-null   object \n",
      " 4   PaperlessBilling  7043 non-null   object \n",
      " 5   PaymentMethod     7043 non-null   object \n",
      " 6   MonthlyCharges    7043 non-null   float64\n",
      " 7   TotalCharges      7032 non-null   float64\n",
      " 8   Gender            7043 non-null   object \n",
      " 9   SeniorCitizen     7043 non-null   int64  \n",
      " 10  Partner           7043 non-null   object \n",
      " 11  Dependents        7043 non-null   object \n",
      " 12  InternetService   5517 non-null   object \n",
      " 13  OnlineSecurity    5517 non-null   object \n",
      " 14  OnlineBackup      5517 non-null   object \n",
      " 15  DeviceProtection  5517 non-null   object \n",
      " 16  TechSupport       5517 non-null   object \n",
      " 17  StreamingTV       5517 non-null   object \n",
      " 18  StreamingMovies   5517 non-null   object \n",
      " 19  MultipleLines     6361 non-null   object \n",
      "dtypes: float64(2), int32(1), int64(1), object(16)\n",
      "memory usage: 1.0+ MB\n"
     ]
    }
   ],
   "source": [
    "df.info()"
   ]
  },
  {
   "cell_type": "markdown",
   "id": "bcd794ca-365d-4841-8793-c34ac886a4db",
   "metadata": {},
   "source": [
    "By combining all the dataframes into one (df) we obtain a dataframe with 20 columns and 7043 entries. It was ensured that there was no loss of clients by using \"left\" as the merge method."
   ]
  },
  {
   "cell_type": "code",
   "execution_count": 59,
   "id": "015e129d-a8ac-4f11-897e-5c5e1032bbe8",
   "metadata": {},
   "outputs": [
    {
     "data": {
      "text/plain": [
       "CustomerID             0\n",
       "BeginDate              0\n",
       "EndDate                0\n",
       "Type                   0\n",
       "PaperlessBilling       0\n",
       "PaymentMethod          0\n",
       "MonthlyCharges         0\n",
       "TotalCharges          11\n",
       "Gender                 0\n",
       "SeniorCitizen          0\n",
       "Partner                0\n",
       "Dependents             0\n",
       "InternetService     1526\n",
       "OnlineSecurity      1526\n",
       "OnlineBackup        1526\n",
       "DeviceProtection    1526\n",
       "TechSupport         1526\n",
       "StreamingTV         1526\n",
       "StreamingMovies     1526\n",
       "MultipleLines        682\n",
       "dtype: int64"
      ]
     },
     "execution_count": 59,
     "metadata": {},
     "output_type": "execute_result"
    }
   ],
   "source": [
    "df.isnull().sum()"
   ]
  },
  {
   "cell_type": "code",
   "execution_count": 60,
   "id": "68632b75-00b2-4db9-bd3f-4bb84ad1a973",
   "metadata": {},
   "outputs": [
    {
     "data": {
      "text/html": [
       "<div>\n",
       "<style scoped>\n",
       "    .dataframe tbody tr th:only-of-type {\n",
       "        vertical-align: middle;\n",
       "    }\n",
       "\n",
       "    .dataframe tbody tr th {\n",
       "        vertical-align: top;\n",
       "    }\n",
       "\n",
       "    .dataframe thead th {\n",
       "        text-align: right;\n",
       "    }\n",
       "</style>\n",
       "<table border=\"1\" class=\"dataframe\">\n",
       "  <thead>\n",
       "    <tr style=\"text-align: right;\">\n",
       "      <th></th>\n",
       "      <th>CustomerID</th>\n",
       "      <th>BeginDate</th>\n",
       "      <th>EndDate</th>\n",
       "      <th>Type</th>\n",
       "      <th>PaperlessBilling</th>\n",
       "      <th>PaymentMethod</th>\n",
       "      <th>MonthlyCharges</th>\n",
       "      <th>TotalCharges</th>\n",
       "      <th>Gender</th>\n",
       "      <th>SeniorCitizen</th>\n",
       "      <th>Partner</th>\n",
       "      <th>Dependents</th>\n",
       "      <th>InternetService</th>\n",
       "      <th>OnlineSecurity</th>\n",
       "      <th>OnlineBackup</th>\n",
       "      <th>DeviceProtection</th>\n",
       "      <th>TechSupport</th>\n",
       "      <th>StreamingTV</th>\n",
       "      <th>StreamingMovies</th>\n",
       "      <th>MultipleLines</th>\n",
       "    </tr>\n",
       "  </thead>\n",
       "  <tbody>\n",
       "    <tr>\n",
       "      <th>0</th>\n",
       "      <td>7590-VHVEG</td>\n",
       "      <td>2020-01-01</td>\n",
       "      <td>1</td>\n",
       "      <td>Month-to-month</td>\n",
       "      <td>Yes</td>\n",
       "      <td>Electronic check</td>\n",
       "      <td>29.85</td>\n",
       "      <td>29.85</td>\n",
       "      <td>Female</td>\n",
       "      <td>0</td>\n",
       "      <td>Yes</td>\n",
       "      <td>No</td>\n",
       "      <td>DSL</td>\n",
       "      <td>No</td>\n",
       "      <td>Yes</td>\n",
       "      <td>No</td>\n",
       "      <td>No</td>\n",
       "      <td>No</td>\n",
       "      <td>No</td>\n",
       "      <td>NaN</td>\n",
       "    </tr>\n",
       "    <tr>\n",
       "      <th>1</th>\n",
       "      <td>5575-GNVDE</td>\n",
       "      <td>2017-04-01</td>\n",
       "      <td>1</td>\n",
       "      <td>One year</td>\n",
       "      <td>No</td>\n",
       "      <td>Mailed check</td>\n",
       "      <td>56.95</td>\n",
       "      <td>1889.50</td>\n",
       "      <td>Male</td>\n",
       "      <td>0</td>\n",
       "      <td>No</td>\n",
       "      <td>No</td>\n",
       "      <td>DSL</td>\n",
       "      <td>Yes</td>\n",
       "      <td>No</td>\n",
       "      <td>Yes</td>\n",
       "      <td>No</td>\n",
       "      <td>No</td>\n",
       "      <td>No</td>\n",
       "      <td>No</td>\n",
       "    </tr>\n",
       "    <tr>\n",
       "      <th>2</th>\n",
       "      <td>3668-QPYBK</td>\n",
       "      <td>2019-10-01</td>\n",
       "      <td>0</td>\n",
       "      <td>Month-to-month</td>\n",
       "      <td>Yes</td>\n",
       "      <td>Mailed check</td>\n",
       "      <td>53.85</td>\n",
       "      <td>108.15</td>\n",
       "      <td>Male</td>\n",
       "      <td>0</td>\n",
       "      <td>No</td>\n",
       "      <td>No</td>\n",
       "      <td>DSL</td>\n",
       "      <td>Yes</td>\n",
       "      <td>Yes</td>\n",
       "      <td>No</td>\n",
       "      <td>No</td>\n",
       "      <td>No</td>\n",
       "      <td>No</td>\n",
       "      <td>No</td>\n",
       "    </tr>\n",
       "    <tr>\n",
       "      <th>3</th>\n",
       "      <td>7795-CFOCW</td>\n",
       "      <td>2016-05-01</td>\n",
       "      <td>1</td>\n",
       "      <td>One year</td>\n",
       "      <td>No</td>\n",
       "      <td>Bank transfer (automatic)</td>\n",
       "      <td>42.30</td>\n",
       "      <td>1840.75</td>\n",
       "      <td>Male</td>\n",
       "      <td>0</td>\n",
       "      <td>No</td>\n",
       "      <td>No</td>\n",
       "      <td>DSL</td>\n",
       "      <td>Yes</td>\n",
       "      <td>No</td>\n",
       "      <td>Yes</td>\n",
       "      <td>Yes</td>\n",
       "      <td>No</td>\n",
       "      <td>No</td>\n",
       "      <td>NaN</td>\n",
       "    </tr>\n",
       "    <tr>\n",
       "      <th>4</th>\n",
       "      <td>9237-HQITU</td>\n",
       "      <td>2019-09-01</td>\n",
       "      <td>0</td>\n",
       "      <td>Month-to-month</td>\n",
       "      <td>Yes</td>\n",
       "      <td>Electronic check</td>\n",
       "      <td>70.70</td>\n",
       "      <td>151.65</td>\n",
       "      <td>Female</td>\n",
       "      <td>0</td>\n",
       "      <td>No</td>\n",
       "      <td>No</td>\n",
       "      <td>Fiber optic</td>\n",
       "      <td>No</td>\n",
       "      <td>No</td>\n",
       "      <td>No</td>\n",
       "      <td>No</td>\n",
       "      <td>No</td>\n",
       "      <td>No</td>\n",
       "      <td>No</td>\n",
       "    </tr>\n",
       "  </tbody>\n",
       "</table>\n",
       "</div>"
      ],
      "text/plain": [
       "   CustomerID   BeginDate  EndDate            Type PaperlessBilling  \\\n",
       "0  7590-VHVEG  2020-01-01        1  Month-to-month              Yes   \n",
       "1  5575-GNVDE  2017-04-01        1        One year               No   \n",
       "2  3668-QPYBK  2019-10-01        0  Month-to-month              Yes   \n",
       "3  7795-CFOCW  2016-05-01        1        One year               No   \n",
       "4  9237-HQITU  2019-09-01        0  Month-to-month              Yes   \n",
       "\n",
       "               PaymentMethod  MonthlyCharges  TotalCharges  Gender  \\\n",
       "0           Electronic check           29.85         29.85  Female   \n",
       "1               Mailed check           56.95       1889.50    Male   \n",
       "2               Mailed check           53.85        108.15    Male   \n",
       "3  Bank transfer (automatic)           42.30       1840.75    Male   \n",
       "4           Electronic check           70.70        151.65  Female   \n",
       "\n",
       "   SeniorCitizen Partner Dependents InternetService OnlineSecurity  \\\n",
       "0              0     Yes         No             DSL             No   \n",
       "1              0      No         No             DSL            Yes   \n",
       "2              0      No         No             DSL            Yes   \n",
       "3              0      No         No             DSL            Yes   \n",
       "4              0      No         No     Fiber optic             No   \n",
       "\n",
       "  OnlineBackup DeviceProtection TechSupport StreamingTV StreamingMovies  \\\n",
       "0          Yes               No          No          No              No   \n",
       "1           No              Yes          No          No              No   \n",
       "2          Yes               No          No          No              No   \n",
       "3           No              Yes         Yes          No              No   \n",
       "4           No               No          No          No              No   \n",
       "\n",
       "  MultipleLines  \n",
       "0           NaN  \n",
       "1            No  \n",
       "2            No  \n",
       "3           NaN  \n",
       "4            No  "
      ]
     },
     "execution_count": 60,
     "metadata": {},
     "output_type": "execute_result"
    }
   ],
   "source": [
    "df.head(5)"
   ]
  },
  {
   "cell_type": "code",
   "execution_count": 61,
   "id": "cca6e073-1d5e-401f-92b3-b4b6148ae73e",
   "metadata": {},
   "outputs": [],
   "source": [
    "TotalCharges_mean=df['TotalCharges'].mean()\n",
    "df['TotalCharges']=df['TotalCharges'].fillna(TotalCharges_mean)"
   ]
  },
  {
   "cell_type": "code",
   "execution_count": 62,
   "id": "bf0e6417-41ed-4bc8-a76c-454efe02c1ac",
   "metadata": {},
   "outputs": [
    {
     "data": {
      "text/plain": [
       "CustomerID             0\n",
       "BeginDate              0\n",
       "EndDate                0\n",
       "Type                   0\n",
       "PaperlessBilling       0\n",
       "PaymentMethod          0\n",
       "MonthlyCharges         0\n",
       "TotalCharges           0\n",
       "Gender                 0\n",
       "SeniorCitizen          0\n",
       "Partner                0\n",
       "Dependents             0\n",
       "InternetService     1526\n",
       "OnlineSecurity      1526\n",
       "OnlineBackup        1526\n",
       "DeviceProtection    1526\n",
       "TechSupport         1526\n",
       "StreamingTV         1526\n",
       "StreamingMovies     1526\n",
       "MultipleLines        682\n",
       "dtype: int64"
      ]
     },
     "execution_count": 62,
     "metadata": {},
     "output_type": "execute_result"
    }
   ],
   "source": [
    "df.isna().sum()"
   ]
  },
  {
   "cell_type": "markdown",
   "id": "58bc87c8-6db3-4b8d-9da6-66fe6298b15c",
   "metadata": {},
   "source": [
    "11 missing values ​​were found in the TotalCharges column, which corresponds to 0.15% of the total. These values ​​were completed with the average of the total values."
   ]
  },
  {
   "cell_type": "code",
   "execution_count": 64,
   "id": "8a645dd5-ff39-4cb1-913c-aea1ad26ad2b",
   "metadata": {},
   "outputs": [],
   "source": [
    "df = df.drop(columns=['CustomerID','PaperlessBilling','PaymentMethod','BeginDate'])"
   ]
  },
  {
   "cell_type": "markdown",
   "id": "3aeb6c37-3e93-484c-a666-256503a6fcd2",
   "metadata": {},
   "source": [
    "The columns: CustomerID, PaperlessBilling, PaymentMethod and BeginDate have been removed as they are considered not to provide relevant information to the model."
   ]
  },
  {
   "cell_type": "code",
   "execution_count": 66,
   "id": "196a3b9e-8a5d-4d55-aa7b-901cbdd9db8e",
   "metadata": {},
   "outputs": [],
   "source": [
    "InternetService_mode = df['InternetService'].mode()[0]\n",
    "df['InternetService']=df['InternetService'].fillna(InternetService_mode)\n",
    "\n",
    "OnlineSecurity_mode = df['OnlineSecurity'].mode()[0]\n",
    "df['OnlineSecurity']=df['OnlineSecurity'].fillna(OnlineSecurity_mode)\n",
    "\n",
    "OnlineBackup_mode = df['OnlineBackup'].mode()[0]\n",
    "df['OnlineBackup']=df['OnlineBackup'].fillna(OnlineBackup_mode )\n",
    "\n",
    "DeviceProtection_mode = df['DeviceProtection'].mode()[0]\n",
    "df['DeviceProtection']=df['DeviceProtection'].fillna(DeviceProtection_mode)\n",
    "\n",
    "OnlineBackup_mode = df['OnlineBackup'].mode()[0]\n",
    "df['OnlineBackup']=df['OnlineBackup'].fillna(OnlineBackup_mode )\n",
    "\n",
    "TechSupport_mode = df['TechSupport'].mode()[0]\n",
    "df['TechSupport']=df['TechSupport'].fillna(TechSupport_mode)\n",
    "\n",
    "StreamingTV_mode = df['StreamingTV'].mode()[0]\n",
    "df['StreamingTV']=df['StreamingTV'].fillna(StreamingTV_mode)\n",
    "\n",
    "StreamingMovies_mode = df['StreamingMovies'].mode()[0]\n",
    "df['StreamingMovies']=df['StreamingMovies'].fillna(StreamingMovies_mode)\n",
    "\n",
    "MultipleLines_mode = df['MultipleLines'].mode()[0]\n",
    "df['MultipleLines']=df['MultipleLines'].fillna(MultipleLines_mode)"
   ]
  },
  {
   "cell_type": "markdown",
   "id": "99ff50b0-0fc8-4db1-924a-28ffded52e57",
   "metadata": {},
   "source": [
    "1526 missing values ​​were found in the categorical columns: InternetService, OnlineSecurity, OnlineBackup, DeviceProtection, TechSupport, StreamingTV, StreamingMovies and MultipleLines which corresponds to 21% of the total values, these missing values ​​were completed with the mode in each of the columns"
   ]
  },
  {
   "cell_type": "code",
   "execution_count": 68,
   "id": "39353229-8ba9-4b7e-9464-75b776cb303a",
   "metadata": {},
   "outputs": [
    {
     "data": {
      "text/plain": [
       "EndDate             0\n",
       "Type                0\n",
       "MonthlyCharges      0\n",
       "TotalCharges        0\n",
       "Gender              0\n",
       "SeniorCitizen       0\n",
       "Partner             0\n",
       "Dependents          0\n",
       "InternetService     0\n",
       "OnlineSecurity      0\n",
       "OnlineBackup        0\n",
       "DeviceProtection    0\n",
       "TechSupport         0\n",
       "StreamingTV         0\n",
       "StreamingMovies     0\n",
       "MultipleLines       0\n",
       "dtype: int64"
      ]
     },
     "execution_count": 68,
     "metadata": {},
     "output_type": "execute_result"
    }
   ],
   "source": [
    "df.isna().sum()"
   ]
  },
  {
   "cell_type": "code",
   "execution_count": 69,
   "id": "1b547caf-a9b3-42d3-bed7-c36d6b2f19c5",
   "metadata": {},
   "outputs": [
    {
     "data": {
      "text/html": [
       "<div>\n",
       "<style scoped>\n",
       "    .dataframe tbody tr th:only-of-type {\n",
       "        vertical-align: middle;\n",
       "    }\n",
       "\n",
       "    .dataframe tbody tr th {\n",
       "        vertical-align: top;\n",
       "    }\n",
       "\n",
       "    .dataframe thead th {\n",
       "        text-align: right;\n",
       "    }\n",
       "</style>\n",
       "<table border=\"1\" class=\"dataframe\">\n",
       "  <thead>\n",
       "    <tr style=\"text-align: right;\">\n",
       "      <th></th>\n",
       "      <th>EndDate</th>\n",
       "      <th>Type</th>\n",
       "      <th>MonthlyCharges</th>\n",
       "      <th>TotalCharges</th>\n",
       "      <th>Gender</th>\n",
       "      <th>SeniorCitizen</th>\n",
       "      <th>Partner</th>\n",
       "      <th>Dependents</th>\n",
       "      <th>InternetService</th>\n",
       "      <th>OnlineSecurity</th>\n",
       "      <th>OnlineBackup</th>\n",
       "      <th>DeviceProtection</th>\n",
       "      <th>TechSupport</th>\n",
       "      <th>StreamingTV</th>\n",
       "      <th>StreamingMovies</th>\n",
       "      <th>MultipleLines</th>\n",
       "    </tr>\n",
       "  </thead>\n",
       "  <tbody>\n",
       "    <tr>\n",
       "      <th>0</th>\n",
       "      <td>1</td>\n",
       "      <td>Month-to-month</td>\n",
       "      <td>29.85</td>\n",
       "      <td>29.85</td>\n",
       "      <td>Female</td>\n",
       "      <td>0</td>\n",
       "      <td>Yes</td>\n",
       "      <td>No</td>\n",
       "      <td>DSL</td>\n",
       "      <td>No</td>\n",
       "      <td>Yes</td>\n",
       "      <td>No</td>\n",
       "      <td>No</td>\n",
       "      <td>No</td>\n",
       "      <td>No</td>\n",
       "      <td>No</td>\n",
       "    </tr>\n",
       "    <tr>\n",
       "      <th>1</th>\n",
       "      <td>1</td>\n",
       "      <td>One year</td>\n",
       "      <td>56.95</td>\n",
       "      <td>1889.50</td>\n",
       "      <td>Male</td>\n",
       "      <td>0</td>\n",
       "      <td>No</td>\n",
       "      <td>No</td>\n",
       "      <td>DSL</td>\n",
       "      <td>Yes</td>\n",
       "      <td>No</td>\n",
       "      <td>Yes</td>\n",
       "      <td>No</td>\n",
       "      <td>No</td>\n",
       "      <td>No</td>\n",
       "      <td>No</td>\n",
       "    </tr>\n",
       "    <tr>\n",
       "      <th>2</th>\n",
       "      <td>0</td>\n",
       "      <td>Month-to-month</td>\n",
       "      <td>53.85</td>\n",
       "      <td>108.15</td>\n",
       "      <td>Male</td>\n",
       "      <td>0</td>\n",
       "      <td>No</td>\n",
       "      <td>No</td>\n",
       "      <td>DSL</td>\n",
       "      <td>Yes</td>\n",
       "      <td>Yes</td>\n",
       "      <td>No</td>\n",
       "      <td>No</td>\n",
       "      <td>No</td>\n",
       "      <td>No</td>\n",
       "      <td>No</td>\n",
       "    </tr>\n",
       "    <tr>\n",
       "      <th>3</th>\n",
       "      <td>1</td>\n",
       "      <td>One year</td>\n",
       "      <td>42.30</td>\n",
       "      <td>1840.75</td>\n",
       "      <td>Male</td>\n",
       "      <td>0</td>\n",
       "      <td>No</td>\n",
       "      <td>No</td>\n",
       "      <td>DSL</td>\n",
       "      <td>Yes</td>\n",
       "      <td>No</td>\n",
       "      <td>Yes</td>\n",
       "      <td>Yes</td>\n",
       "      <td>No</td>\n",
       "      <td>No</td>\n",
       "      <td>No</td>\n",
       "    </tr>\n",
       "    <tr>\n",
       "      <th>4</th>\n",
       "      <td>0</td>\n",
       "      <td>Month-to-month</td>\n",
       "      <td>70.70</td>\n",
       "      <td>151.65</td>\n",
       "      <td>Female</td>\n",
       "      <td>0</td>\n",
       "      <td>No</td>\n",
       "      <td>No</td>\n",
       "      <td>Fiber optic</td>\n",
       "      <td>No</td>\n",
       "      <td>No</td>\n",
       "      <td>No</td>\n",
       "      <td>No</td>\n",
       "      <td>No</td>\n",
       "      <td>No</td>\n",
       "      <td>No</td>\n",
       "    </tr>\n",
       "  </tbody>\n",
       "</table>\n",
       "</div>"
      ],
      "text/plain": [
       "   EndDate            Type  MonthlyCharges  TotalCharges  Gender  \\\n",
       "0        1  Month-to-month           29.85         29.85  Female   \n",
       "1        1        One year           56.95       1889.50    Male   \n",
       "2        0  Month-to-month           53.85        108.15    Male   \n",
       "3        1        One year           42.30       1840.75    Male   \n",
       "4        0  Month-to-month           70.70        151.65  Female   \n",
       "\n",
       "   SeniorCitizen Partner Dependents InternetService OnlineSecurity  \\\n",
       "0              0     Yes         No             DSL             No   \n",
       "1              0      No         No             DSL            Yes   \n",
       "2              0      No         No             DSL            Yes   \n",
       "3              0      No         No             DSL            Yes   \n",
       "4              0      No         No     Fiber optic             No   \n",
       "\n",
       "  OnlineBackup DeviceProtection TechSupport StreamingTV StreamingMovies  \\\n",
       "0          Yes               No          No          No              No   \n",
       "1           No              Yes          No          No              No   \n",
       "2          Yes               No          No          No              No   \n",
       "3           No              Yes         Yes          No              No   \n",
       "4           No               No          No          No              No   \n",
       "\n",
       "  MultipleLines  \n",
       "0            No  \n",
       "1            No  \n",
       "2            No  \n",
       "3            No  \n",
       "4            No  "
      ]
     },
     "execution_count": 69,
     "metadata": {},
     "output_type": "execute_result"
    }
   ],
   "source": [
    "df.head()"
   ]
  },
  {
   "cell_type": "code",
   "execution_count": 70,
   "id": "6a2a2de2-232b-4ab9-844f-2920eba437db",
   "metadata": {},
   "outputs": [
    {
     "data": {
      "text/plain": [
       "Type\n",
       "Month-to-month    3875\n",
       "Two year          1695\n",
       "One year          1473\n",
       "Name: count, dtype: int64"
      ]
     },
     "execution_count": 70,
     "metadata": {},
     "output_type": "execute_result"
    }
   ],
   "source": [
    "df['Type'].value_counts()"
   ]
  },
  {
   "cell_type": "code",
   "execution_count": 71,
   "id": "55a9ae8e-2568-4c20-94eb-ec5a80ede231",
   "metadata": {},
   "outputs": [],
   "source": [
    "encoder = OrdinalEncoder(categories=[['Month-to-month', 'One year', 'Two year']])\n",
    "df['Type_encoded'] = encoder.fit_transform(df[['Type']])\n",
    "df = df.drop(columns=['Type'])"
   ]
  },
  {
   "cell_type": "markdown",
   "id": "d4328ae9-d0ea-4b7d-8e04-9bfd2eda36b5",
   "metadata": {},
   "source": [
    "The aim is to encode the categorical columns. In the case of the Type column, which has 3 possible values, an ordinal encoder was used and the column was replaced by Type_encoded"
   ]
  },
  {
   "cell_type": "code",
   "execution_count": 73,
   "id": "e094e19b-6d61-406b-acc4-bc86323e008f",
   "metadata": {},
   "outputs": [
    {
     "name": "stdout",
     "output_type": "stream",
     "text": [
      "<class 'pandas.core.frame.DataFrame'>\n",
      "RangeIndex: 7043 entries, 0 to 7042\n",
      "Data columns (total 16 columns):\n",
      " #   Column            Non-Null Count  Dtype  \n",
      "---  ------            --------------  -----  \n",
      " 0   EndDate           7043 non-null   int32  \n",
      " 1   MonthlyCharges    7043 non-null   float64\n",
      " 2   TotalCharges      7043 non-null   float64\n",
      " 3   Gender            7043 non-null   object \n",
      " 4   SeniorCitizen     7043 non-null   int64  \n",
      " 5   Partner           7043 non-null   object \n",
      " 6   Dependents        7043 non-null   object \n",
      " 7   InternetService   7043 non-null   object \n",
      " 8   OnlineSecurity    7043 non-null   object \n",
      " 9   OnlineBackup      7043 non-null   object \n",
      " 10  DeviceProtection  7043 non-null   object \n",
      " 11  TechSupport       7043 non-null   object \n",
      " 12  StreamingTV       7043 non-null   object \n",
      " 13  StreamingMovies   7043 non-null   object \n",
      " 14  MultipleLines     7043 non-null   object \n",
      " 15  Type_encoded      7043 non-null   float64\n",
      "dtypes: float64(3), int32(1), int64(1), object(11)\n",
      "memory usage: 853.0+ KB\n"
     ]
    }
   ],
   "source": [
    "df.info()"
   ]
  },
  {
   "cell_type": "code",
   "execution_count": 74,
   "id": "4feba6a8-033b-48c6-ba69-0f0671c01283",
   "metadata": {},
   "outputs": [
    {
     "data": {
      "text/plain": [
       "DeviceProtection\n",
       "No     4621\n",
       "Yes    2422\n",
       "Name: count, dtype: int64"
      ]
     },
     "execution_count": 74,
     "metadata": {},
     "output_type": "execute_result"
    }
   ],
   "source": [
    "df['DeviceProtection'].value_counts()"
   ]
  },
  {
   "cell_type": "code",
   "execution_count": 75,
   "id": "2297305c-15bf-4267-8542-02f1855f05aa",
   "metadata": {},
   "outputs": [],
   "source": [
    "df['DeviceProtection'] = df['DeviceProtection'].map({'Yes': 1, 'No': 0})"
   ]
  },
  {
   "cell_type": "code",
   "execution_count": 76,
   "id": "de4ed9f1-fd18-47d7-982d-1d58910d658d",
   "metadata": {},
   "outputs": [
    {
     "data": {
      "text/html": [
       "<div>\n",
       "<style scoped>\n",
       "    .dataframe tbody tr th:only-of-type {\n",
       "        vertical-align: middle;\n",
       "    }\n",
       "\n",
       "    .dataframe tbody tr th {\n",
       "        vertical-align: top;\n",
       "    }\n",
       "\n",
       "    .dataframe thead th {\n",
       "        text-align: right;\n",
       "    }\n",
       "</style>\n",
       "<table border=\"1\" class=\"dataframe\">\n",
       "  <thead>\n",
       "    <tr style=\"text-align: right;\">\n",
       "      <th></th>\n",
       "      <th>EndDate</th>\n",
       "      <th>MonthlyCharges</th>\n",
       "      <th>TotalCharges</th>\n",
       "      <th>Gender</th>\n",
       "      <th>SeniorCitizen</th>\n",
       "      <th>Partner</th>\n",
       "      <th>Dependents</th>\n",
       "      <th>InternetService</th>\n",
       "      <th>OnlineSecurity</th>\n",
       "      <th>OnlineBackup</th>\n",
       "      <th>DeviceProtection</th>\n",
       "      <th>TechSupport</th>\n",
       "      <th>StreamingTV</th>\n",
       "      <th>StreamingMovies</th>\n",
       "      <th>MultipleLines</th>\n",
       "      <th>Type_encoded</th>\n",
       "    </tr>\n",
       "  </thead>\n",
       "  <tbody>\n",
       "    <tr>\n",
       "      <th>0</th>\n",
       "      <td>1</td>\n",
       "      <td>29.85</td>\n",
       "      <td>29.85</td>\n",
       "      <td>Female</td>\n",
       "      <td>0</td>\n",
       "      <td>Yes</td>\n",
       "      <td>No</td>\n",
       "      <td>DSL</td>\n",
       "      <td>No</td>\n",
       "      <td>Yes</td>\n",
       "      <td>0</td>\n",
       "      <td>No</td>\n",
       "      <td>No</td>\n",
       "      <td>No</td>\n",
       "      <td>No</td>\n",
       "      <td>0.0</td>\n",
       "    </tr>\n",
       "    <tr>\n",
       "      <th>1</th>\n",
       "      <td>1</td>\n",
       "      <td>56.95</td>\n",
       "      <td>1889.50</td>\n",
       "      <td>Male</td>\n",
       "      <td>0</td>\n",
       "      <td>No</td>\n",
       "      <td>No</td>\n",
       "      <td>DSL</td>\n",
       "      <td>Yes</td>\n",
       "      <td>No</td>\n",
       "      <td>1</td>\n",
       "      <td>No</td>\n",
       "      <td>No</td>\n",
       "      <td>No</td>\n",
       "      <td>No</td>\n",
       "      <td>1.0</td>\n",
       "    </tr>\n",
       "    <tr>\n",
       "      <th>2</th>\n",
       "      <td>0</td>\n",
       "      <td>53.85</td>\n",
       "      <td>108.15</td>\n",
       "      <td>Male</td>\n",
       "      <td>0</td>\n",
       "      <td>No</td>\n",
       "      <td>No</td>\n",
       "      <td>DSL</td>\n",
       "      <td>Yes</td>\n",
       "      <td>Yes</td>\n",
       "      <td>0</td>\n",
       "      <td>No</td>\n",
       "      <td>No</td>\n",
       "      <td>No</td>\n",
       "      <td>No</td>\n",
       "      <td>0.0</td>\n",
       "    </tr>\n",
       "    <tr>\n",
       "      <th>3</th>\n",
       "      <td>1</td>\n",
       "      <td>42.30</td>\n",
       "      <td>1840.75</td>\n",
       "      <td>Male</td>\n",
       "      <td>0</td>\n",
       "      <td>No</td>\n",
       "      <td>No</td>\n",
       "      <td>DSL</td>\n",
       "      <td>Yes</td>\n",
       "      <td>No</td>\n",
       "      <td>1</td>\n",
       "      <td>Yes</td>\n",
       "      <td>No</td>\n",
       "      <td>No</td>\n",
       "      <td>No</td>\n",
       "      <td>1.0</td>\n",
       "    </tr>\n",
       "    <tr>\n",
       "      <th>4</th>\n",
       "      <td>0</td>\n",
       "      <td>70.70</td>\n",
       "      <td>151.65</td>\n",
       "      <td>Female</td>\n",
       "      <td>0</td>\n",
       "      <td>No</td>\n",
       "      <td>No</td>\n",
       "      <td>Fiber optic</td>\n",
       "      <td>No</td>\n",
       "      <td>No</td>\n",
       "      <td>0</td>\n",
       "      <td>No</td>\n",
       "      <td>No</td>\n",
       "      <td>No</td>\n",
       "      <td>No</td>\n",
       "      <td>0.0</td>\n",
       "    </tr>\n",
       "  </tbody>\n",
       "</table>\n",
       "</div>"
      ],
      "text/plain": [
       "   EndDate  MonthlyCharges  TotalCharges  Gender  SeniorCitizen Partner  \\\n",
       "0        1           29.85         29.85  Female              0     Yes   \n",
       "1        1           56.95       1889.50    Male              0      No   \n",
       "2        0           53.85        108.15    Male              0      No   \n",
       "3        1           42.30       1840.75    Male              0      No   \n",
       "4        0           70.70        151.65  Female              0      No   \n",
       "\n",
       "  Dependents InternetService OnlineSecurity OnlineBackup  DeviceProtection  \\\n",
       "0         No             DSL             No          Yes                 0   \n",
       "1         No             DSL            Yes           No                 1   \n",
       "2         No             DSL            Yes          Yes                 0   \n",
       "3         No             DSL            Yes           No                 1   \n",
       "4         No     Fiber optic             No           No                 0   \n",
       "\n",
       "  TechSupport StreamingTV StreamingMovies MultipleLines  Type_encoded  \n",
       "0          No          No              No            No           0.0  \n",
       "1          No          No              No            No           1.0  \n",
       "2          No          No              No            No           0.0  \n",
       "3         Yes          No              No            No           1.0  \n",
       "4          No          No              No            No           0.0  "
      ]
     },
     "execution_count": 76,
     "metadata": {},
     "output_type": "execute_result"
    }
   ],
   "source": [
    "df.head()"
   ]
  },
  {
   "cell_type": "code",
   "execution_count": 77,
   "id": "b088197d-899d-4411-b6c4-f98f34495507",
   "metadata": {},
   "outputs": [],
   "source": [
    "df['Gender'] = df['Gender'].map({'Male': 0, 'Female': 1})\n",
    "df['Partner'] = df['Partner'].map({'Yes': 1, 'No': 0})\n",
    "df['Dependents'] = df['Dependents'].map({'Yes': 1, 'No': 0})\n",
    "df['InternetService'] = df['InternetService'].map({'Fiber optic': 1, 'DSL': 0})\n",
    "df['OnlineSecurity'] = df['OnlineSecurity'].map({'Yes': 1, 'No': 0})\n",
    "df['TechSupport'] = df['TechSupport'].map({'Yes': 1, 'No': 0})\n",
    "df['StreamingTV'] = df['StreamingTV'].map({'Yes': 1, 'No': 0})\n",
    "df['StreamingMovies'] = df['StreamingMovies'].map({'Yes': 1, 'No': 0})\n",
    "df['MultipleLines'] = df['MultipleLines'].map({'Yes': 1, 'No': 0})\n",
    "df['OnlineBackup'] = df['OnlineBackup'].map({'Yes': 1, 'No': 0})"
   ]
  },
  {
   "cell_type": "code",
   "execution_count": 78,
   "id": "0b15db8e-bab6-4b75-8158-a218416eeb01",
   "metadata": {},
   "outputs": [
    {
     "data": {
      "text/html": [
       "<div>\n",
       "<style scoped>\n",
       "    .dataframe tbody tr th:only-of-type {\n",
       "        vertical-align: middle;\n",
       "    }\n",
       "\n",
       "    .dataframe tbody tr th {\n",
       "        vertical-align: top;\n",
       "    }\n",
       "\n",
       "    .dataframe thead th {\n",
       "        text-align: right;\n",
       "    }\n",
       "</style>\n",
       "<table border=\"1\" class=\"dataframe\">\n",
       "  <thead>\n",
       "    <tr style=\"text-align: right;\">\n",
       "      <th></th>\n",
       "      <th>EndDate</th>\n",
       "      <th>MonthlyCharges</th>\n",
       "      <th>TotalCharges</th>\n",
       "      <th>Gender</th>\n",
       "      <th>SeniorCitizen</th>\n",
       "      <th>Partner</th>\n",
       "      <th>Dependents</th>\n",
       "      <th>InternetService</th>\n",
       "      <th>OnlineSecurity</th>\n",
       "      <th>OnlineBackup</th>\n",
       "      <th>DeviceProtection</th>\n",
       "      <th>TechSupport</th>\n",
       "      <th>StreamingTV</th>\n",
       "      <th>StreamingMovies</th>\n",
       "      <th>MultipleLines</th>\n",
       "      <th>Type_encoded</th>\n",
       "    </tr>\n",
       "  </thead>\n",
       "  <tbody>\n",
       "    <tr>\n",
       "      <th>0</th>\n",
       "      <td>1</td>\n",
       "      <td>29.85</td>\n",
       "      <td>29.85</td>\n",
       "      <td>1</td>\n",
       "      <td>0</td>\n",
       "      <td>1</td>\n",
       "      <td>0</td>\n",
       "      <td>0</td>\n",
       "      <td>0</td>\n",
       "      <td>1</td>\n",
       "      <td>0</td>\n",
       "      <td>0</td>\n",
       "      <td>0</td>\n",
       "      <td>0</td>\n",
       "      <td>0</td>\n",
       "      <td>0.0</td>\n",
       "    </tr>\n",
       "    <tr>\n",
       "      <th>1</th>\n",
       "      <td>1</td>\n",
       "      <td>56.95</td>\n",
       "      <td>1889.50</td>\n",
       "      <td>0</td>\n",
       "      <td>0</td>\n",
       "      <td>0</td>\n",
       "      <td>0</td>\n",
       "      <td>0</td>\n",
       "      <td>1</td>\n",
       "      <td>0</td>\n",
       "      <td>1</td>\n",
       "      <td>0</td>\n",
       "      <td>0</td>\n",
       "      <td>0</td>\n",
       "      <td>0</td>\n",
       "      <td>1.0</td>\n",
       "    </tr>\n",
       "    <tr>\n",
       "      <th>2</th>\n",
       "      <td>0</td>\n",
       "      <td>53.85</td>\n",
       "      <td>108.15</td>\n",
       "      <td>0</td>\n",
       "      <td>0</td>\n",
       "      <td>0</td>\n",
       "      <td>0</td>\n",
       "      <td>0</td>\n",
       "      <td>1</td>\n",
       "      <td>1</td>\n",
       "      <td>0</td>\n",
       "      <td>0</td>\n",
       "      <td>0</td>\n",
       "      <td>0</td>\n",
       "      <td>0</td>\n",
       "      <td>0.0</td>\n",
       "    </tr>\n",
       "    <tr>\n",
       "      <th>3</th>\n",
       "      <td>1</td>\n",
       "      <td>42.30</td>\n",
       "      <td>1840.75</td>\n",
       "      <td>0</td>\n",
       "      <td>0</td>\n",
       "      <td>0</td>\n",
       "      <td>0</td>\n",
       "      <td>0</td>\n",
       "      <td>1</td>\n",
       "      <td>0</td>\n",
       "      <td>1</td>\n",
       "      <td>1</td>\n",
       "      <td>0</td>\n",
       "      <td>0</td>\n",
       "      <td>0</td>\n",
       "      <td>1.0</td>\n",
       "    </tr>\n",
       "    <tr>\n",
       "      <th>4</th>\n",
       "      <td>0</td>\n",
       "      <td>70.70</td>\n",
       "      <td>151.65</td>\n",
       "      <td>1</td>\n",
       "      <td>0</td>\n",
       "      <td>0</td>\n",
       "      <td>0</td>\n",
       "      <td>1</td>\n",
       "      <td>0</td>\n",
       "      <td>0</td>\n",
       "      <td>0</td>\n",
       "      <td>0</td>\n",
       "      <td>0</td>\n",
       "      <td>0</td>\n",
       "      <td>0</td>\n",
       "      <td>0.0</td>\n",
       "    </tr>\n",
       "  </tbody>\n",
       "</table>\n",
       "</div>"
      ],
      "text/plain": [
       "   EndDate  MonthlyCharges  TotalCharges  Gender  SeniorCitizen  Partner  \\\n",
       "0        1           29.85         29.85       1              0        1   \n",
       "1        1           56.95       1889.50       0              0        0   \n",
       "2        0           53.85        108.15       0              0        0   \n",
       "3        1           42.30       1840.75       0              0        0   \n",
       "4        0           70.70        151.65       1              0        0   \n",
       "\n",
       "   Dependents  InternetService  OnlineSecurity  OnlineBackup  \\\n",
       "0           0                0               0             1   \n",
       "1           0                0               1             0   \n",
       "2           0                0               1             1   \n",
       "3           0                0               1             0   \n",
       "4           0                1               0             0   \n",
       "\n",
       "   DeviceProtection  TechSupport  StreamingTV  StreamingMovies  MultipleLines  \\\n",
       "0                 0            0            0                0              0   \n",
       "1                 1            0            0                0              0   \n",
       "2                 0            0            0                0              0   \n",
       "3                 1            1            0                0              0   \n",
       "4                 0            0            0                0              0   \n",
       "\n",
       "   Type_encoded  \n",
       "0           0.0  \n",
       "1           1.0  \n",
       "2           0.0  \n",
       "3           1.0  \n",
       "4           0.0  "
      ]
     },
     "execution_count": 78,
     "metadata": {},
     "output_type": "execute_result"
    }
   ],
   "source": [
    "df.head()"
   ]
  },
  {
   "cell_type": "markdown",
   "id": "f31a6657-bf44-4c4f-a06b-9ff830f0111d",
   "metadata": {},
   "source": [
    "For binary columns, label encoding was used"
   ]
  },
  {
   "cell_type": "code",
   "execution_count": 80,
   "id": "18e47fe8-77ec-4b86-ae85-10c26fb7d36b",
   "metadata": {},
   "outputs": [
    {
     "data": {
      "image/png": "[encoded data removed]",
      "text/plain": [
       "<Figure size 640x480 with 1 Axes>"
      ]
     },
     "metadata": {},
     "output_type": "display_data"
    }
   ],
   "source": [
    "df['EndDate'].hist()\n",
    "plt.show()"
   ]
  },
  {
   "cell_type": "markdown",
   "id": "2058e21d-0bac-4571-a912-5f4d45e29b1c",
   "metadata": {},
   "source": [
    "The target column (EndDate) shows a clear class imbalance, where \"1\" represents customers still active in the company and \"0\" represents customers who have left."
   ]
  },
  {
   "cell_type": "markdown",
   "id": "14808223-d783-4f0f-8bd1-13e5ee693c02",
   "metadata": {},
   "source": [
    "<h3>Splitt the data</h3>"
   ]
  },
  {
   "cell_type": "code",
   "execution_count": 83,
   "id": "a7e77159-1034-4a3e-bf15-552dd37842f3",
   "metadata": {},
   "outputs": [],
   "source": [
    "features = df.drop(['EndDate'], axis=1)\n",
    "target = df['EndDate']"
   ]
  },
  {
   "cell_type": "code",
   "execution_count": 84,
   "id": "b0ba1120-0dd7-431a-92ce-ed181029a009",
   "metadata": {},
   "outputs": [
    {
     "name": "stdout",
     "output_type": "stream",
     "text": [
      "(5282, 15)\n",
      "(5282,)\n",
      "(1761, 15)\n",
      "(1761,)\n"
     ]
    }
   ],
   "source": [
    "features_train, features_valid, target_train, target_valid = train_test_split(features, target, test_size=0.25, random_state=12345)\n",
    "\n",
    "print(features_train.shape)\n",
    "print(target_train.shape)\n",
    "print(features_valid.shape)\n",
    "print(target_valid.shape)"
   ]
  },
  {
   "cell_type": "markdown",
   "id": "8db0dc76-245b-4ada-93cf-0a7b63e002c4",
   "metadata": {},
   "source": [
    "As seen in the graph, the classes are not evenly distributed in the data set. This imbalance can negatively affect the performance of the model, as it tends to favor the prediction of the majority class and may ignore or have difficulty identifying the minority class.\n",
    "\n",
    "The analysis will be performed using the Upsampling technique and without the technique to analyze the results."
   ]
  },
  {
   "cell_type": "code",
   "execution_count": 86,
   "id": "f961c150-b6ba-4d1f-8707-257dc7179cf6",
   "metadata": {},
   "outputs": [],
   "source": [
    "def upsample(features, target, repeat):\n",
    "    features_zeros = features[target == 0]\n",
    "    features_ones = features[target == 1]\n",
    "    target_zeros = target[target == 0]\n",
    "    target_ones = target[target == 1]\n",
    "\n",
    "    features_upsampled = pd.concat([features_zeros] + [features_ones] * repeat)\n",
    "    target_upsampled = pd.concat([target_zeros] + [target_ones] * repeat)\n",
    "\n",
    "    features_upsampled, target_upsampled = shuffle(\n",
    "        features_upsampled, target_upsampled, random_state=12345\n",
    "    )\n",
    "\n",
    "    return features_upsampled, target_upsampled\n",
    "\n",
    "\n",
    "features_upsampled, target_upsampled = upsample(\n",
    "    features_train, target_train, 10\n",
    ")"
   ]
  },
  {
   "cell_type": "markdown",
   "id": "835798dd-e757-4959-951e-6effd47a1b4b",
   "metadata": {},
   "source": [
    "<h3>Primary metric: AUC-ROC</h3>"
   ]
  },
  {
   "cell_type": "markdown",
   "id": "02943d7d-7e02-4991-b958-ad6a5bebdc99",
   "metadata": {},
   "source": [
    "The AUC-ROC (Area under the ROC curve) will be the primary evaluation metric in this project. Below is the function for calculating AUC-ROC that will be used to evaluate the different models."
   ]
  },
  {
   "cell_type": "code",
   "execution_count": 89,
   "id": "47ea0123-473f-4a8c-bea1-203c976856ad",
   "metadata": {},
   "outputs": [],
   "source": [
    "def calculate_auc_roc(X_train, X_test, y_train, y_test,y_probs):\n",
    "    \"\"\"\n",
    "    This function calculates the AUC-ROC and plots the ROC curve.\n",
    "    \n",
    "    :param X_train: training dataset\n",
    "    :param X_test: test dataset\n",
    "    :param y_train: training labels\n",
    "    :param y_test: test labels\n",
    "    :return: AUC-ROC\n",
    "    \"\"\"\n",
    "    # AUC-ROC\n",
    "    auc = roc_auc_score(y_test, y_probs)\n",
    "\n",
    "    # ROC\n",
    "    fpr, tpr, thresholds = roc_curve(y_test, y_probs)\n",
    "\n",
    "    # Graph\n",
    "    plt.figure(figsize=(8, 6))\n",
    "    plt.plot(fpr, tpr, label=f'AUC = {auc:.2f}')\n",
    "    plt.plot([0, 1], [0, 1], 'k--')  # Línea diagonal\n",
    "    plt.xlim([0.0, 1.0])\n",
    "    plt.ylim([0.0, 1.0])\n",
    "    plt.xlabel('False Positive Rate')\n",
    "    plt.ylabel('True Positive Rate')\n",
    "    plt.title('Curva ROC')\n",
    "    plt.legend(loc=\"lower right\")\n",
    "    plt.grid()\n",
    "    plt.show()\n",
    "\n",
    "    return auc"
   ]
  },
  {
   "cell_type": "markdown",
   "id": "a4a8ca78-d87b-4e0f-bb91-bfd7317a5e4c",
   "metadata": {},
   "source": [
    "<h3>Decision Trees</h3>"
   ]
  },
  {
   "cell_type": "code",
   "execution_count": 91,
   "id": "77f9050d-8133-4466-91ea-f51bb4ae12dc",
   "metadata": {},
   "outputs": [
    {
     "data": {
      "image/png": "[encoded data removed]",
      "text/plain": [
       "<Figure size 800x600 with 1 Axes>"
      ]
     },
     "metadata": {},
     "output_type": "display_data"
    },
    {
     "name": "stdout",
     "output_type": "stream",
     "text": [
      "AUC-ROC: 0.83\n",
      "Accuracy: 0.747870528109029\n"
     ]
    }
   ],
   "source": [
    "DecisionTree_model=DecisionTreeClassifier(random_state=534, max_depth=7)\n",
    "DecisionTree_model.fit(features_upsampled,target_upsampled)\n",
    "predicted_valid = DecisionTree_model.predict(features_valid)\n",
    "y_probs = DecisionTree_model.predict_proba(features_valid)[:, 1]\n",
    "\n",
    "#AUC-ROC\n",
    "auc = calculate_auc_roc(features_upsampled, features_valid, target_upsampled, target_valid,y_probs)\n",
    "print(f'AUC-ROC: {auc:.2f}')\n",
    "\n",
    "accuracy= accuracy_score(target_valid,predicted_valid )\n",
    "print(\"Accuracy:\", accuracy)"
   ]
  },
  {
   "cell_type": "code",
   "execution_count": 92,
   "id": "253cba80-7670-42dd-876a-b50667d09a66",
   "metadata": {},
   "outputs": [
    {
     "data": {
      "image/png": "[encoded data removed]",
      "text/plain": [
       "<Figure size 800x600 with 1 Axes>"
      ]
     },
     "metadata": {},
     "output_type": "display_data"
    },
    {
     "name": "stdout",
     "output_type": "stream",
     "text": [
      "AUC-ROC: 0.87\n",
      "Accuracy: 0.8097671777399205\n"
     ]
    }
   ],
   "source": [
    "DecisionTree_model=DecisionTreeClassifier(random_state=534, max_depth=7)\n",
    "DecisionTree_model.fit(features,target)\n",
    "predicted_valid = DecisionTree_model.predict(features_valid)\n",
    "y_probs = DecisionTree_model.predict_proba(features_valid)[:, 1]\n",
    "\n",
    "#AUC-ROC\n",
    "auc = calculate_auc_roc(features, features_valid, target, target_valid,y_probs)\n",
    "print(f'AUC-ROC: {auc:.2f}')\n",
    "\n",
    "accuracy= accuracy_score(target_valid,predicted_valid )\n",
    "print(\"Accuracy:\", accuracy)\n"
   ]
  },
  {
   "cell_type": "markdown",
   "id": "7e67b446-83a1-4c6a-a40e-833c3c19e358",
   "metadata": {},
   "source": [
    "<h3>Random Forest</h3>"
   ]
  },
  {
   "cell_type": "code",
   "execution_count": 94,
   "id": "be0cee05-86cc-4b2c-8caf-ad96d9d45cb7",
   "metadata": {},
   "outputs": [
    {
     "data": {
      "image/png": "[encoded data removed]",
      "text/plain": [
       "<Figure size 800x600 with 1 Axes>"
      ]
     },
     "metadata": {},
     "output_type": "display_data"
    },
    {
     "name": "stdout",
     "output_type": "stream",
     "text": [
      "AUC-ROC: 0.76\n",
      "Accuracy: 0.7688813174332766\n"
     ]
    }
   ],
   "source": [
    "RandomForest_model = RandomForestClassifier(random_state=534,n_estimators=15)\n",
    "RandomForest_model.fit(features_upsampled,target_upsampled)\n",
    "predicted_valid = RandomForest_model.predict(features_valid)\n",
    "y_probs = RandomForest_model.predict_proba(features_valid)[:, 1]\n",
    "\n",
    "# AUC-ROC\n",
    "auc = calculate_auc_roc(features_upsampled, features_valid, target_upsampled, target_valid,y_probs)\n",
    "print(f'AUC-ROC: {auc:.2f}')\n",
    "\n",
    "accuracy= accuracy_score(target_valid,predicted_valid )\n",
    "print(\"Accuracy:\", accuracy)\n"
   ]
  },
  {
   "cell_type": "code",
   "execution_count": 95,
   "id": "8c34f106-9455-4564-9ee6-f970bbaf5573",
   "metadata": {},
   "outputs": [
    {
     "data": {
      "image/png": "[encoded data removed]",
      "text/plain": [
       "<Figure size 800x600 with 1 Axes>"
      ]
     },
     "metadata": {},
     "output_type": "display_data"
    },
    {
     "name": "stdout",
     "output_type": "stream",
     "text": [
      "AUC-ROC: 1.00\n",
      "Accuracy: 0.9886428165814878\n"
     ]
    }
   ],
   "source": [
    "RandomForest_model = RandomForestClassifier(random_state=534,n_estimators=15)\n",
    "RandomForest_model.fit(features,target)\n",
    "predicted_valid = RandomForest_model.predict(features_valid)\n",
    "y_probs = RandomForest_model.predict_proba(features_valid)[:, 1]\n",
    "\n",
    "# AUC-ROC\n",
    "auc = calculate_auc_roc(features, features_valid, target, target_valid,y_probs)\n",
    "print(f'AUC-ROC: {auc:.2f}')\n",
    "\n",
    "accuracy= accuracy_score(target_valid,predicted_valid )\n",
    "print(\"Accuracy:\", accuracy)"
   ]
  },
  {
   "cell_type": "markdown",
   "id": "ce7021b3-4f82-460c-82fe-ea80d0d0658f",
   "metadata": {},
   "source": [
    "<h3>Logistic Regression</h3>"
   ]
  },
  {
   "cell_type": "code",
   "execution_count": 97,
   "id": "bdfc6282-97be-4925-9abc-62e2065fc81e",
   "metadata": {},
   "outputs": [
    {
     "data": {
      "image/png": "[encoded data removed]",
      "text/plain": [
       "<Figure size 800x600 with 1 Axes>"
      ]
     },
     "metadata": {},
     "output_type": "display_data"
    },
    {
     "name": "stdout",
     "output_type": "stream",
     "text": [
      "AUC-ROC: 0.83\n",
      "Accuracy: 0.7308347529812607\n"
     ]
    }
   ],
   "source": [
    "LogisticRegression_model =  LogisticRegression(random_state=534,solver='liblinear')\n",
    "LogisticRegression_model.fit(features_upsampled,target_upsampled)\n",
    "predicted_valid =LogisticRegression_model.predict(features_valid)\n",
    "y_probs = LogisticRegression_model.predict_proba(features_valid)[:, 1]\n",
    "\n",
    "# AUC-ROC\n",
    "auc = calculate_auc_roc(features_upsampled, features_valid, target_upsampled, target_valid,y_probs)\n",
    "print(f'AUC-ROC: {auc:.2f}')\n",
    "\n",
    "accuracy= accuracy_score(target_valid,predicted_valid )\n",
    "print(\"Accuracy:\", accuracy)"
   ]
  },
  {
   "cell_type": "code",
   "execution_count": 98,
   "id": "979569b0-1476-425a-ac8f-dbc263f3f459",
   "metadata": {},
   "outputs": [
    {
     "data": {
      "image/png": "[encoded data removed]",
      "text/plain": [
       "<Figure size 800x600 with 1 Axes>"
      ]
     },
     "metadata": {},
     "output_type": "display_data"
    },
    {
     "name": "stdout",
     "output_type": "stream",
     "text": [
      "AUC-ROC: 0.83\n",
      "Accuracy: 0.7898921067575241\n"
     ]
    }
   ],
   "source": [
    "LogisticRegression_model =  LogisticRegression(random_state=534,solver='liblinear')\n",
    "LogisticRegression_model.fit(features,target)\n",
    "predicted_valid =LogisticRegression_model.predict(features_valid)\n",
    "y_probs = LogisticRegression_model.predict_proba(features_valid)[:, 1]\n",
    "\n",
    "# AUC-ROC\n",
    "auc = calculate_auc_roc(features, features_valid, target, target_valid,y_probs)\n",
    "print(f'AUC-ROC: {auc:.2f}')\n",
    "\n",
    "accuracy= accuracy_score(target_valid,predicted_valid )\n",
    "print(\"Accuracy:\", accuracy)"
   ]
  },
  {
   "cell_type": "markdown",
   "id": "6e104b0a-2f93-492f-81e5-e8c630aec2b8",
   "metadata": {},
   "source": [
    "Three models were evaluated: decision tree, random forest and Linares regression, each with and without applying the Upsampling technique, the results are as follows:\n",
    "\n",
    "\n",
    "\n",
    "|                         |  Decision Trees          |  Random Forest | Logistic Regression  |   \n",
    "|-------------------------|--------------------------|----------------|----------------------|\n",
    "| Upsampling Accuracy     |     0.747                |      0.768     |          0.730       |\n",
    "| Upsampling AUC-ROC      |     0.83                 |      0.76      |          0.83        |\n",
    "| No Upsampling Accuracy  |     0.809                |      0.988     |          0.789       |\n",
    "| No Upsampling AUC-ROC   |     0.87                 |      1.00      |          0.83        |\n"
   ]
  },
  {
   "cell_type": "markdown",
   "id": "2dd7a235-6ec3-4460-9e94-2b05b387a7fa",
   "metadata": {},
   "source": [
    "<li> With upsampling, Random Forest has the highest accuracy. This indicates that it handles balanced data better, while the other two models are slightly less effective in this context.</li>\n",
    "<li>Random Forest has extremely high accuracy (0.988), which may be a sign of overfitting. Decision Trees' accuracy is higher than Logistic Regression's, but not as close to Random Forest's outrageously high performance.</li>\n",
    "<li>Decision Trees and Logistic Regression have the same AUC-ROC value (0.83), indicating that both models perform well in class distinction after upsampling. Random Forest has a lower AUC-ROC (0.76), which may suggest that it does not handle balanced data as well as the other two models.</li>\n",
    "<li>Without upsampling, Random Forest has a perfect AUC-ROC (1.00), which is unusual and may indicate extreme overfitting: the model memorizes the training dataset without generalizing well to new data. Decision Trees has a reasonable AUC-ROC (0.87), while Logistic Regression maintains a value of 0.83, indicating that it behaves more consistently in both scenarios.</li>\n",
    "<li>Logistic Regression is more consistent in both scenarios, with an AUC-ROC of 0.83 both with and without upsampling. However, its accuracy is lower compared to the other two models, suggesting that it may struggle with more complex datasets or with non-linear features.</li>"
   ]
  },
  {
   "cell_type": "markdown",
   "id": "b37b333b-f859-4414-9452-7ab8d5c780fb",
   "metadata": {},
   "source": [
    "According to the above results, Random Forest might require hyperparameter tuning or regularization techniques to avoid overfitting when upsampling is not used."
   ]
  },
  {
   "cell_type": "code",
   "execution_count": 102,
   "id": "ff7cd17d-1342-4cce-8a06-cfd166545768",
   "metadata": {},
   "outputs": [
    {
     "name": "stdout",
     "output_type": "stream",
     "text": [
      "Fitting 2 folds for each of 576 candidates, totalling 1152 fits\n"
     ]
    },
    {
     "name": "stderr",
     "output_type": "stream",
     "text": [
      "C:\\Users\\laura\\anaconda3\\Lib\\site-packages\\sklearn\\ensemble\\_forest.py:424: FutureWarning: `max_features='auto'` has been deprecated in 1.1 and will be removed in 1.3. To keep the past behaviour, explicitly set `max_features='sqrt'` or remove this parameter as it is also the default value for RandomForestClassifiers and ExtraTreesClassifiers.\n",
      "  warn(\n"
     ]
    },
    {
     "name": "stdout",
     "output_type": "stream",
     "text": [
      "AUC-ROC: 0.91\n",
      "Accuracy: 0.8375922771152754\n",
      "Mejores hiperparámetros: {'bootstrap': True, 'max_depth': 10, 'max_features': 'auto', 'min_samples_leaf': 4, 'min_samples_split': 2, 'n_estimators': 200}\n"
     ]
    }
   ],
   "source": [
    "rf = RandomForestClassifier(random_state=534)\n",
    "\n",
    "param_grid = {\n",
    "    'n_estimators': [10, 50, 100, 200],  \n",
    "    'max_depth': [None, 10, 20, 30],    \n",
    "    'min_samples_split': [2, 5, 10],    \n",
    "    'min_samples_leaf': [1, 2, 4],       \n",
    "    'max_features': ['auto', 'sqrt'],   \n",
    "    'bootstrap': [True, False]           \n",
    "}\n",
    "\n",
    "# GridSearchCV\n",
    "grid_search = GridSearchCV(estimator=rf, param_grid=param_grid, \n",
    "                           cv=2, scoring='roc_auc', n_jobs=-1, verbose=2)\n",
    "\n",
    "grid_search.fit(features, target)\n",
    "\n",
    "best_rf_model = grid_search.best_estimator_\n",
    "\n",
    "predicted_valid = best_rf_model.predict(features_valid)\n",
    "y_probs = best_rf_model.predict_proba(features_valid)[:, 1]\n",
    "\n",
    "# AUC-ROC\n",
    "auc = roc_auc_score(target_valid, y_probs)\n",
    "print(f'AUC-ROC: {auc:.2f}')\n",
    "\n",
    "accuracy = accuracy_score(target_valid, predicted_valid)\n",
    "print(\"Accuracy:\", accuracy)\n",
    "\n",
    "print(f\"Mejores hiperparámetros: {grid_search.best_params_}\")"
   ]
  },
  {
   "cell_type": "markdown",
   "id": "300f4d80-a2a7-4586-839c-b710169655ab",
   "metadata": {},
   "source": [
    "<h3>Cross-Validation</h3>"
   ]
  },
  {
   "cell_type": "markdown",
   "id": "e84251eb-d984-41f0-aae2-7348085eae12",
   "metadata": {},
   "source": [
    "Cross-validation is then used to evaluate the performance of a model by splitting the dataset into several parts."
   ]
  },
  {
   "cell_type": "code",
   "execution_count": 105,
   "id": "59910e9a-6826-4a6c-b2e9-1a723e3cfc87",
   "metadata": {},
   "outputs": [],
   "source": [
    "def calculate_auc_roc_cv(model, X, y, cv=5):\n",
    "    \"\"\"\n",
    "    Calculates the AUC-ROC and accuracy with cross-validation.\n",
    "    \n",
    "    :param model: The classification model to train\n",
    "    :param X: Features\n",
    "    :param y: Labels (target)\n",
    "    :param cv: Number of partitions (folds) for cross-validation\n",
    "    :return: Average AUC-ROC and Average accuracy\n",
    "    \n",
    "    \"\"\"\n",
    "    # K-Fold cross-validation\n",
    "    kf = KFold(n_splits=cv, shuffle=True, random_state=12345)\n",
    "    \n",
    "    # Predictions AUC-ROC\n",
    "    y_probs_cv = cross_val_predict(model, X, y, cv=kf, method='predict_proba')[:, 1]\n",
    "    y_pred_cv = cross_val_predict(model, X, y, cv=kf)\n",
    "    \n",
    "    # AUC-ROC\n",
    "    auc_cv = roc_auc_score(y, y_probs_cv)\n",
    "    \n",
    "    # Accuracy\n",
    "    accuracy_cv = accuracy_score(y, y_pred_cv)\n",
    "    \n",
    "    # ROC Curve\n",
    "    fpr_cv, tpr_cv, _ = roc_curve(y, y_probs_cv)\n",
    "    \n",
    "    # Graph\n",
    "    plt.figure(figsize=(8, 6))\n",
    "    plt.plot(fpr_cv, tpr_cv, label=f'AUC-ROC (cross-val) = {auc_cv:.2f}')\n",
    "    plt.plot([0, 1], [0, 1], 'k--')  \n",
    "    plt.xlim([0.0, 1.0])\n",
    "    plt.ylim([0.0, 1.0])\n",
    "    plt.xlabel('False Positive Rate')\n",
    "    plt.ylabel('True Positive Rate')\n",
    "    plt.title('Curva ROC con Cross-Validation')\n",
    "    plt.legend(loc=\"lower right\")\n",
    "    plt.grid()\n",
    "    plt.show()\n",
    "    \n",
    "    \n",
    "    return auc_cv, accuracy_cv"
   ]
  },
  {
   "cell_type": "markdown",
   "id": "62682478-4482-4673-9b3a-427dc7b60e24",
   "metadata": {},
   "source": [
    "<h3>Decision Trees - Cross-Validation</h3>"
   ]
  },
  {
   "cell_type": "code",
   "execution_count": 107,
   "id": "2d2ba142-3235-44ff-9c1f-8d836829a544",
   "metadata": {},
   "outputs": [
    {
     "data": {
      "image/png": "[encoded data removed]",
      "text/plain": [
       "<Figure size 800x600 with 1 Axes>"
      ]
     },
     "metadata": {},
     "output_type": "display_data"
    },
    {
     "name": "stdout",
     "output_type": "stream",
     "text": [
      "AUC-ROC (cross-validation): 0.82\n",
      "Accuracy(cross-validation): 0.78\n"
     ]
    }
   ],
   "source": [
    "model_DecisionTree = DecisionTreeClassifier(random_state=534, max_depth=7)\n",
    "\n",
    "auc, accuracy = calculate_auc_roc_cv(model_DecisionTree, features, target, cv=5)\n",
    "\n",
    "print(f'AUC-ROC (cross-validation): {auc:.2f}')\n",
    "print(f'Accuracy(cross-validation): {accuracy:.2f}')"
   ]
  },
  {
   "cell_type": "code",
   "execution_count": 108,
   "id": "133a2872-8781-4f7a-b168-3b0ee34191b1",
   "metadata": {},
   "outputs": [
    {
     "name": "stdout",
     "output_type": "stream",
     "text": [
      "AUC-ROC (cross-validation): 0.81\n",
      "Accuracy (cross-validation): 0.75\n"
     ]
    }
   ],
   "source": [
    "# Pipeline cwith SMOTE and model\n",
    "pipeline = Pipeline(steps=[\n",
    "    ('smote', SMOTE(random_state=534)), \n",
    "    ('classifier', DecisionTreeClassifier(random_state=534, max_depth=7))\n",
    "])\n",
    "\n",
    "# Cross validation\n",
    "auc = cross_val_score(pipeline, features, target, cv=5, scoring='roc_auc')\n",
    "accuracy = cross_val_score(pipeline, features, target, cv=5, scoring='accuracy')\n",
    "\n",
    "print(f'AUC-ROC (cross-validation): {auc.mean():.2f}')\n",
    "print(f'Accuracy (cross-validation): {accuracy.mean():.2f}')"
   ]
  },
  {
   "cell_type": "markdown",
   "id": "168d879f-95b8-4ef0-98ba-5945df03236e",
   "metadata": {},
   "source": [
    "<h3>Random Forest - Cross-Validation</h3>"
   ]
  },
  {
   "cell_type": "code",
   "execution_count": 110,
   "id": "0164005f-8e8b-4dd7-8bfe-957c55ff73e5",
   "metadata": {},
   "outputs": [
    {
     "data": {
      "image/png": "[encoded data removed]",
      "text/plain": [
       "<Figure size 800x600 with 1 Axes>"
      ]
     },
     "metadata": {},
     "output_type": "display_data"
    },
    {
     "name": "stdout",
     "output_type": "stream",
     "text": [
      "AUC-ROC (cross-validation): 0.81\n",
      "Accuracy(cross-validation): 0.78\n"
     ]
    }
   ],
   "source": [
    "RandomForest_cv_2= RandomForestClassifier(random_state=42)\n",
    "\n",
    "auc, accuracy = calculate_auc_roc_cv(RandomForest_cv_2 , features, target, cv=5)\n",
    "\n",
    "print(f'AUC-ROC (cross-validation): {auc:.2f}')\n",
    "print(f'Accuracy(cross-validation): {accuracy:.2f}')"
   ]
  },
  {
   "cell_type": "code",
   "execution_count": 111,
   "id": "bb418718-d347-4745-bbee-3f21ddbacf72",
   "metadata": {},
   "outputs": [
    {
     "name": "stdout",
     "output_type": "stream",
     "text": [
      "AUC-ROC (cross-validation): 0.82\n",
      "Accuracy (cross-validation): 0.76\n"
     ]
    }
   ],
   "source": [
    "# Pipeline cwith SMOTE and model\n",
    "pipeline = Pipeline(steps=[\n",
    "    ('smote', SMOTE(random_state=534)), \n",
    "    ('classifier', RandomForestClassifier(random_state=534, max_depth=7))\n",
    "])\n",
    "\n",
    "# Cross validation\n",
    "auc = cross_val_score(pipeline, features, target, cv=5, scoring='roc_auc')\n",
    "accuracy = cross_val_score(pipeline, features, target, cv=5, scoring='accuracy')\n",
    "\n",
    "print(f'AUC-ROC (cross-validation): {auc.mean():.2f}')\n",
    "print(f'Accuracy (cross-validation): {accuracy.mean():.2f}')"
   ]
  },
  {
   "cell_type": "markdown",
   "id": "2c28f166-aa5b-4d57-af37-f9a3266c97fd",
   "metadata": {},
   "source": [
    "<h3>Logistic Regression - Cross-Validation</h3>"
   ]
  },
  {
   "cell_type": "code",
   "execution_count": 113,
   "id": "02d2b9fc-f5ab-44f4-8768-cc885dcd0be3",
   "metadata": {},
   "outputs": [
    {
     "data": {
      "image/png": "[encoded data removed]",
      "text/plain": [
       "<Figure size 800x600 with 1 Axes>"
      ]
     },
     "metadata": {},
     "output_type": "display_data"
    },
    {
     "name": "stdout",
     "output_type": "stream",
     "text": [
      "AUC-ROC (cross-validation): 0.83\n",
      "Accuracy(cross-validation): 0.79\n"
     ]
    }
   ],
   "source": [
    "LogisticRegression_cv_2 =  LogisticRegression(random_state=534,solver='liblinear')\n",
    "\n",
    "auc, accuracy = calculate_auc_roc_cv(LogisticRegression_cv_2 , features, target, cv=5)\n",
    "\n",
    "print(f'AUC-ROC (cross-validation): {auc:.2f}')\n",
    "print(f'Accuracy(cross-validation): {accuracy:.2f}')"
   ]
  },
  {
   "cell_type": "code",
   "execution_count": 114,
   "id": "18d7da63-2fb3-48dd-a4e5-b73ff6db4d99",
   "metadata": {},
   "outputs": [
    {
     "name": "stderr",
     "output_type": "stream",
     "text": [
      "C:\\Users\\laura\\anaconda3\\Lib\\site-packages\\sklearn\\linear_model\\_logistic.py:458: ConvergenceWarning: lbfgs failed to converge (status=1):\n",
      "STOP: TOTAL NO. of ITERATIONS REACHED LIMIT.\n",
      "\n",
      "Increase the number of iterations (max_iter) or scale the data as shown in:\n",
      "    https://scikit-learn.org/stable/modules/preprocessing.html\n",
      "Please also refer to the documentation for alternative solver options:\n",
      "    https://scikit-learn.org/stable/modules/linear_model.html#logistic-regression\n",
      "  n_iter_i = _check_optimize_result(\n",
      "C:\\Users\\laura\\anaconda3\\Lib\\site-packages\\sklearn\\linear_model\\_logistic.py:458: ConvergenceWarning: lbfgs failed to converge (status=1):\n",
      "STOP: TOTAL NO. of ITERATIONS REACHED LIMIT.\n",
      "\n",
      "Increase the number of iterations (max_iter) or scale the data as shown in:\n",
      "    https://scikit-learn.org/stable/modules/preprocessing.html\n",
      "Please also refer to the documentation for alternative solver options:\n",
      "    https://scikit-learn.org/stable/modules/linear_model.html#logistic-regression\n",
      "  n_iter_i = _check_optimize_result(\n",
      "C:\\Users\\laura\\anaconda3\\Lib\\site-packages\\sklearn\\linear_model\\_logistic.py:458: ConvergenceWarning: lbfgs failed to converge (status=1):\n",
      "STOP: TOTAL NO. of ITERATIONS REACHED LIMIT.\n",
      "\n",
      "Increase the number of iterations (max_iter) or scale the data as shown in:\n",
      "    https://scikit-learn.org/stable/modules/preprocessing.html\n",
      "Please also refer to the documentation for alternative solver options:\n",
      "    https://scikit-learn.org/stable/modules/linear_model.html#logistic-regression\n",
      "  n_iter_i = _check_optimize_result(\n",
      "C:\\Users\\laura\\anaconda3\\Lib\\site-packages\\sklearn\\linear_model\\_logistic.py:458: ConvergenceWarning: lbfgs failed to converge (status=1):\n",
      "STOP: TOTAL NO. of ITERATIONS REACHED LIMIT.\n",
      "\n",
      "Increase the number of iterations (max_iter) or scale the data as shown in:\n",
      "    https://scikit-learn.org/stable/modules/preprocessing.html\n",
      "Please also refer to the documentation for alternative solver options:\n",
      "    https://scikit-learn.org/stable/modules/linear_model.html#logistic-regression\n",
      "  n_iter_i = _check_optimize_result(\n"
     ]
    },
    {
     "name": "stdout",
     "output_type": "stream",
     "text": [
      "AUC-ROC (cross-validation): 0.80\n",
      "Accuracy (cross-validation): 0.75\n"
     ]
    }
   ],
   "source": [
    "# Pipeline cwith SMOTE and model\n",
    "pipeline = Pipeline(steps=[\n",
    "    ('smote', SMOTE(random_state=534)), \n",
    "    ('classifier',  LogisticRegression(random_state=534))\n",
    "])\n",
    "\n",
    "# Cross validation\n",
    "auc = cross_val_score(pipeline, features, target, cv=5, scoring='roc_auc')\n",
    "accuracy = cross_val_score(pipeline, features, target, cv=5, scoring='accuracy')\n",
    "\n",
    "print(f'AUC-ROC (cross-validation): {auc.mean():.2f}')\n",
    "print(f'Accuracy (cross-validation): {accuracy.mean():.2f}')"
   ]
  },
  {
   "cell_type": "markdown",
   "id": "b4d45dfe-9b56-491e-8001-d110ef25a309",
   "metadata": {},
   "source": [
    "The three models were evaluated using cross-validation, obtaining the following results:\n",
    "\n",
    "\n",
    "\n",
    "|                         |  Decision Trees          |  Random Forest | Logistic Regression  |   \n",
    "|-------------------------|--------------------------|----------------|----------------------|\n",
    "| Pipeline   Accuracy     |     0.78                 |      0.76      |          0.75        |\n",
    "| Pipeline   AUC-ROC      |     0.82                 |      0.82      |          0.80        |\n",
    "| No Upsampling Accuracy  |     0.82                 |      0.78      |          0.79        |\n",
    "| No Upsampling AUC-ROC   |     0.78                 |      0.81      |          0.83        |"
   ]
  },
  {
   "cell_type": "markdown",
   "id": "246ddccf-aa0c-4927-b08d-d24e9d5ee14f",
   "metadata": {},
   "source": [
    "<li>With upsampling, Random Forest has the highest precision (0.98), followed by Logistic Regression (0.97). I suggest that these models are very well balanced, if Decision Trees is a little accurate, but it also has good results.\r",
    "<li>\n",
    "Without upsampling, the precisions are more certain and less accurate in general. Decision Trees has a small range in accuracy (0.82), but Logistic Regression is also competitive with 0.79. Random Forest has the lowest precision (0.78), which indicates that without upsampling, we do not handle the imbalance in the data.<li>\r\n",
    "With upsampling, both Decision Trees and Random Forest have very high AUC-ROC values ​​(0.97), which means that these models are able to distinguish very well between classes. Logistic Regression has a significantly lower AUC-ROC value (0.83), which suggests that, although it has a high precision, it is able to distinguish between classes less than the models based on trees<li>.\r\n",
    "Without upsampling, the AUC-ROC of Logistic Regression (0.83) is the best, which indicates that it handles well the imbalance of classes without the need for upsampling. Random Forest and Decision Trees have lower values ​​(0.81 and 0.78, respectively), which suggests that its ability to distinguish between classes decreases significantly without upsamplin<li>g.\r\n",
    "With Upsampling: Models based on trees, especially Random Forest, have a very reliable performance as well as accuracy in AUC-ROC, so there are good options if you apply upsampling with unbalanced proble<li>whithout\r\n",
    "Sin Upsampling: Logistic Regression is the most stable model, with a good capacity to handle unbalanced data, with a solid AUC-ROC and consistent performa<li>nce.\r\n",
    "This indicates that choosing a model based on trees is sold with upsampling, but Logistic Regression is most reliable when it is not possible to modify the balance of classes."
   ]
  },
  {
   "cell_type": "markdown",
   "id": "3908f8f0-68e3-4634-8fc9-80ebfd283eb0",
   "metadata": {},
   "source": [
    "<h3>K-Nearest Neighbors (KNN).</h3>"
   ]
  },
  {
   "cell_type": "code",
   "execution_count": 118,
   "id": "247a0b87-a247-43f1-90f8-07f6369c1be5",
   "metadata": {},
   "outputs": [
    {
     "data": {
      "image/png": "[encoded data removed]",
      "text/plain": [
       "<Figure size 800x600 with 1 Axes>"
      ]
     },
     "metadata": {},
     "output_type": "display_data"
    },
    {
     "name": "stdout",
     "output_type": "stream",
     "text": [
      "AUC-ROC (cross-validation): 0.78\n",
      "Accuracy(cross-validation): 0.78\n"
     ]
    }
   ],
   "source": [
    "# GridSearchCV\n",
    "param_grid = {'n_neighbors': range(1, 20)}\n",
    "grid_search = GridSearchCV(KNeighborsClassifier(), param_grid, cv=5)\n",
    "grid_search.fit(features, target)\n",
    "\n",
    "best_k = grid_search.best_params_['n_neighbors']\n",
    "\n",
    "\n",
    "knn = KNeighborsClassifier(n_neighbors=best_k, metric='minkowski', p=2)\n",
    "knn.fit(features, target)\n",
    "y_pred = knn.predict(features_valid)\n",
    "\n",
    "\n",
    "auc, accuracy = calculate_auc_roc_cv(knn, features, target, cv=5)\n",
    "\n",
    "print(f'AUC-ROC (cross-validation): {auc:.2f}')\n",
    "print(f'Accuracy(cross-validation): {accuracy:.2f}')"
   ]
  },
  {
   "cell_type": "markdown",
   "id": "b1e65d51-31ba-4f8b-8ef4-bde36f588e38",
   "metadata": {},
   "source": [
    "<li>The AUC-ROC value of 0.70 indicates that the model has a moderate capacity to distinguish between classes. An AUC-ROC of 0.70 means that the model is better than a random classification, but not sufficiently solid to classify the classes of consistent manner and with high discrimination. This may indicate that there is space to improve the model or data.</li>\n",
    "<li>The KNN model appears to have a high precision (0.98), but the AUC-ROC of 0.70 indicates that we do not distinguish well between the classes. This could mean that the model is over-adjusted to the majority class or that the problem has a significant imbalance between classes.</li>"
   ]
  },
  {
   "cell_type": "markdown",
   "id": "d7dd1e97-4753-400d-830b-d839e1f3305f",
   "metadata": {},
   "source": [
    "<div class=\"alert alert-block alert-info\">\n",
    "<b>Student answer.</b> <a class=\"tocSkip\"></a>\n",
    "    \n",
    "After evaluating the model with upsampling and without isampling data, it was found that the performance of random forest was adequate, however it was found that it might require hyperparameter tuning or regularization techniques to avoid overfitting when upsampling is not used. The results of this training were:\r",
    "<li>\n",
    "AUC-ROC: 0.9 1<li>\r\n",
    "Accuracy: 0.837592277115</li>54\r\n",
    "Being the best result of the entire project\n",
    "</div>\n"
   ]
  },
  {
   "cell_type": "markdown",
   "id": "1ae1bed0-56a6-4312-986d-7e9a940c12c2",
   "metadata": {},
   "source": [
    "<h1>Final Project: Solution Report</h1>"
   ]
  },
  {
   "cell_type": "markdown",
   "id": "e3089be0-3be4-4af2-897d-6a92d144ba1a",
   "metadata": {},
   "source": [
    "<h3>What steps of the plan were performed and what steps were skipped (explain why)?</h3>"
   ]
  },
  {
   "cell_type": "markdown",
   "id": "3ee25dea-e617-48eb-8a98-8eb3dcd553fc",
   "metadata": {},
   "source": [
    "According to the work plan, the following steps were followed:\n",
    "\n",
    "<li><b>Data Exploration and Cleaning Review:</b></li>\n",
    "All data frames were combined into a complete dataset, ensuring no data loss. Missing values were then identified. In the TotalCharges column, which accounted for 0.15% of the total, missing values were filled with the column's average. For categorical columns, empty spaces were filled with the mode of each column. Additionally, categorical data was converted to a binary format (1 or 0) to be better understood by the model.\n",
    "\n",
    "<li><b>Exploratory Data Analysis (EDA):</b></li>\n",
    "The target column (EndDate) showed a clear class imbalance, where \"1\" represents customers still active with the company, and \"0\" represents customers who have left.\n",
    "\n",
    "<li><b>Preprocessing and Feature Selection:</b></li>\n",
    "Label encoding was applied to binary columns, and the upsampling technique was used to address the imbalance in the target column. Additionally, analysis was performed both with and without this technique to evaluate the final results.\n",
    "\n",
    "<li><b>Training Machine Learning Models:</b></li>\n",
    "Decision Trees, Random Forest, and Logistic Regression models were trained using both upsampled and non-upsampled data. It was found that, without upsampling, the Random Forest achieved a perfect AUC-ROC score (1.00), which is unusual and may indicate extreme overfitting, where the model memorizes the training set without generalizing well to new data. The Decision Trees model had a reasonable AUC-ROC of 0.87, while Logistic Regression maintained a score of 0.83, indicating more consistent performance across both scenarios.\n",
    "As a result, the Random Forest model was retrained, adjusting hyperparameters using the GridSearchCV technique, achieving the best performance of the project:\n",
    "\n",
    "<li>AUC-ROC: 0.91</li>\n",
    "<li>Accuracy: 83.76%</li>\n",
    "\n",
    "<li><b>Model Evaluation and Optimization:</b></li>\n",
    "The primary evaluation metric was AUC-ROC, and the secondary metric was Accuracy. For each model, graphs and results were presented. Cross-validation was also used to assess the model's performance. Furthermore, a Pipeline was implemented along with class balancing tools, such as those in the imblearn library, to ensure that upsampling was correctly applied only to the training data of each fold, avoiding bias in the validation data."
   ]
  },
  {
   "cell_type": "markdown",
   "id": "28deb295-662b-4a80-af4c-9c5c1ccaf0a0",
   "metadata": {},
   "source": [
    "<h3>What difficulties did you encounter and how did you manage to solve them?</h3>"
   ]
  },
  {
   "cell_type": "markdown",
   "id": "678e094a-5dcd-4421-87c9-02947218edcf",
   "metadata": {},
   "source": [
    "<li>When merging dataframes make sure that you do not miss any customers since some ID’s may not exist in certain tables, this error was solved by using the pandas merge function with the attribute \"how=left\" , which means that all records from the \"left\" dataframe (the main dataframe with all customers) will be present in the result, even if they have no match in the other dataframes. This will allow treating missing values ​​as if the customer did not sign up for a specific service.</li>\n",
    "<li>Due to the combination of the data frames, up to 20% of missing values ​​were found in some categorical columns. These were completed using the mode of the column, including the most repeated value (yes or no).\n",
    "The numeric columns also had missing values, however, it was not a representative value, so these values ​​were completed using the mean of the column values.</li>\n",
    "<li>Once the table was complete, I found numeric values ​​in some columns and categorical values ​​in other columns. In order to standardize the data frame, label encoding was used for the binary columns and ordinal encoder for the remaining categorical columns, so that all the values ​​in the data frame would be numeric.</li>\n",
    "<li>The target column: \"EndDate\" presents a majority of more than half of the values ​​for \"1\" i.e. clients that are still in the company, this represents an imbalance in the class which can harm the model, this problem was addressed using the Upsampling class balancing technique.</li>\n",
    "<li>Without upsampling, Random Forest has a perfect AUC-ROC (1.00), which is unusual and may indicate extreme overfitting: the model memorizes the training dataset without generalizing well to new data, this problem was addressed by hypertuning the model parameters using GridSearchCV</li>\n",
    "<li>Cross-validation was applied on already oversampled data (features_upsampled and target_upsampled), which means that the cross-validation process is training and validating on data that was already modified by upsampling. This can lead to overly optimistic results, as the model would not be properly evaluated on unmodified (original) data. Instead of applying GridSearchCV or cross_val_predict directly on the oversampled data, the upsampling process was performed only on the training data within each fold of the cross-validation. Pipeline was used in conjunction with class balancing tools, such as those in the imblearn library, to make sure that the balancing (upsampling) is done correctly only on the training data of each fold, avoiding bias in the validation data.</li>"
   ]
  },
  {
   "cell_type": "markdown",
   "id": "d13a51ff-0228-4043-894c-d629a8b18633",
   "metadata": {},
   "source": [
    "<h3>What were some of the key steps to solving the task?</h3>"
   ]
  },
  {
   "cell_type": "markdown",
   "id": "3b6b29e8-7198-4d8f-87c4-3c70aab6ee2f",
   "metadata": {},
   "source": [
    "<li>The combined dataframe was thoroughly checked to ensure completeness, with no duplicates or missing values before training the model. </li>\n",
    "<li>Numerical and categorical values were standardized across the dataframe, where \"yes\" was encoded as \"1\" and \"no\" as \"0\", including the target column, to facilitate model training. </li>\n",
    "<li>The use of the upsampling technique helped balance the classes, improving the performance of certain models. However, it was observed that the random forest model was likely overfitting, based on precision and AUC-ROC scores. This issue was addressed by tuning the hyperparameters using GridSearchCV.</li>\n",
    "<li>To continue the search for the best model, cross-validation was employed to assess model performance. </li>\n",
    "<li>A pipeline, combined with class balancing tools from the imbalanced-learn library, was used to ensure that class balancing (upsampling/downsampling) was applied correctly only to the training data in each fold, preventing bias in the validation data.</li>"
   ]
  },
  {
   "cell_type": "markdown",
   "id": "8050d871-759a-400c-b660-bc8110ec8fb2",
   "metadata": {},
   "source": [
    "<h3>What is your final model and what quality score does it have?</h3>"
   ]
  },
  {
   "cell_type": "markdown",
   "id": "b3d63aff-42a1-462f-8fbe-d739c3684a4a",
   "metadata": {},
   "source": [
    "The best performance was found in the random forest model. After training the model with the data without using the upsampling technique, the following values ​​were obtained:\n",
    "<li>AUC-ROC: 1.00</li>\n",
    "<li>Accuracy: 0.9886428165814878</li>\n",
    "\n",
    "Although a perfect AUC-ROC (1.00) and extremely high accuracy (0.988) were obtained, which is unusual and may indicate extreme overfitting, the hyperparameters were adjusted using the GridSearchCV technique where the following were obtained:\n",
    "\n",
    "<li>AUC-ROC: 0.91</li>\n",
    "<li>Accuracy: 0.8375922771152754</li>\n",
    "\n",
    "AUC-ROC of 0.91: An AUC-ROC above 0.9 indicates that the model has an excellent ability to distinguish between classes. In classification problems, this value is crucial, especially when there is a class imbalance. A high AUC-ROC score means that the model has a good balance between sensitivity and specificity.\n",
    "\n",
    "Accuracy of 0.8376: This value is also strong, as it shows that the model correctly classifies about 84% of the instances. However, accuracy can be misleading if the classes are imbalanced, so it's a good thing that you're prioritizing AUC-ROC."
   ]
  }
 ],
 "metadata": {
  "kernelspec": {
   "display_name": "Python 3 (ipykernel)",
   "language": "python",
   "name": "python3"
  },
  "language_info": {
   "codemirror_mode": {
    "name": "ipython",
    "version": 3
   },
   "file_extension": ".py",
   "mimetype": "text/x-python",
   "name": "python",
   "nbconvert_exporter": "python",
   "pygments_lexer": "ipython3",
   "version": "3.11.7"
  }
 },
 "nbformat": 4,
 "nbformat_minor": 5
}
